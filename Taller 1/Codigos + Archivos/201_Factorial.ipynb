{
 "cells": [
  {
   "cell_type": "code",
   "execution_count": 1,
   "id": "a255446a",
   "metadata": {},
   "outputs": [],
   "source": [
    "import numpy as np"
   ]
  },
  {
   "cell_type": "code",
   "execution_count": 2,
   "id": "7e406f5b",
   "metadata": {},
   "outputs": [],
   "source": [
    "def factorial(n)->np.ndarray:\n",
    "    lista = []\n",
    "    \n",
    "    for i in range(0,(n-1)):\n",
    "        lista.append(n-i)\n",
    "    \n",
    "    np.array(lista)\n",
    "    fact = np.prod(lista)\n",
    "    \n",
    "    return fact"
   ]
  },
  {
   "cell_type": "code",
   "execution_count": 16,
   "id": "115f721d",
   "metadata": {},
   "outputs": [
    {
     "data": {
      "text/plain": [
       "738197504"
      ]
     },
     "execution_count": 16,
     "metadata": {},
     "output_type": "execute_result"
    }
   ],
   "source": [
    "factorial(31)"
   ]
  },
  {
   "cell_type": "code",
   "execution_count": null,
   "id": "96eb55a6",
   "metadata": {},
   "outputs": [],
   "source": []
  }
 ],
 "metadata": {
  "kernelspec": {
   "display_name": "Python 3",
   "language": "python",
   "name": "python3"
  },
  "language_info": {
   "codemirror_mode": {
    "name": "ipython",
    "version": 3
   },
   "file_extension": ".py",
   "mimetype": "text/x-python",
   "name": "python",
   "nbconvert_exporter": "python",
   "pygments_lexer": "ipython3",
   "version": "3.8.8"
  }
 },
 "nbformat": 4,
 "nbformat_minor": 5
}
