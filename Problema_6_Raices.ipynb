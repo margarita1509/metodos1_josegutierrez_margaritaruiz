{
 "cells": [
  {
   "cell_type": "code",
   "execution_count": 15,
   "id": "fb26fcc3",
   "metadata": {},
   "outputs": [],
   "source": [
    "import numpy as np\n",
    "import matplotlib.pyplot as plt"
   ]
  },
  {
   "cell_type": "code",
   "execution_count": 23,
   "id": "71327abb",
   "metadata": {},
   "outputs": [
    {
     "data": {
      "text/plain": [
       "[<matplotlib.lines.Line2D at 0x20dc2f28e20>]"
      ]
     },
     "execution_count": 23,
     "metadata": {},
     "output_type": "execute_result"
    },
    {
     "data": {
      "image/png": "[encoded data removed]",
      "text/plain": [
       "<Figure size 432x288 with 1 Axes>"
      ]
     },
     "metadata": {
      "needs_background": "light"
     },
     "output_type": "display_data"
    }
   ],
   "source": [
    "T = [-3,2]\n",
    "R = [2,-2]\n",
    "x = np.linspace(-3,3,50)\n",
    "n1 = 1.33\n",
    "t = ((T[1])**2 + (x+T[0])**2)**(1/2) + (1.33*((4 + (x+2)**2)**(1/2)))\n",
    "plt.plot(x,t)"
   ]
  },
  {
   "cell_type": "code",
   "execution_count": 73,
   "id": "c18cfcb8",
   "metadata": {},
   "outputs": [],
   "source": [
    "def Optica(x):\n",
    "    nT=((T[1])**2 + (x+T[0])**2)**(1/2)\n",
    "    nR=((4 + (x+2)**2)**(1/2))\n",
    "    t = nT + (1.33*nR)\n",
    "    return t"
   ]
  },
  {
   "cell_type": "code",
   "execution_count": 74,
   "id": "685bedf5",
   "metadata": {},
   "outputs": [],
   "source": [
    "def Derivative(f,x,h=1e-6):\n",
    "    return (f(x+h)-f(x-h))/(2*h)"
   ]
  },
  {
   "cell_type": "code",
   "execution_count": 75,
   "id": "0fb448cb",
   "metadata": {},
   "outputs": [],
   "source": [
    "def SecondDerivative(f,df,x,h=1e-6):\n",
    "    return (df(f,x+h)-df(f,x-h))/(2*h)"
   ]
  },
  {
   "cell_type": "code",
   "execution_count": 76,
   "id": "0f3adeb8",
   "metadata": {},
   "outputs": [
    {
     "data": {
      "text/plain": [
       "8.881784197001252e-10"
      ]
     },
     "execution_count": 76,
     "metadata": {},
     "output_type": "execute_result"
    }
   ],
   "source": [
    "a = Derivative(Optica,x)\n",
    "a"
   ]
  },
  {
   "cell_type": "code",
   "execution_count": 77,
   "id": "3e83bdbc",
   "metadata": {},
   "outputs": [],
   "source": [
    "def GetNewtonRaphson(f,df,df2,xn,itmax = 100, precision=1e-5):\n",
    "    \n",
    "    error = 1\n",
    "    it = 0\n",
    "    \n",
    "    while error > precision and it <= itmax:\n",
    "        \n",
    "        try:\n",
    "            \n",
    "            xn1 = xn - df(f,xn)/df2(f,df,xn)\n",
    "            \n",
    "            error = np.abs(df(f,xn)/df2(f,df,xn))\n",
    "            \n",
    "            #print(error)\n",
    "            \n",
    "        except ZeroDivisionError:\n",
    "            \n",
    "            print('Division por cero')\n",
    "            \n",
    "        it += 1\n",
    "        xn = xn1\n",
    "    \n",
    "    if it == itmax:\n",
    "        False\n",
    "    else:\n",
    "        return xn"
   ]
  },
  {
   "cell_type": "code",
   "execution_count": 78,
   "id": "c913ea7a",
   "metadata": {},
   "outputs": [
    {
     "data": {
      "text/plain": [
       "-0.3169057559061078"
      ]
     },
     "execution_count": 78,
     "metadata": {},
     "output_type": "execute_result"
    }
   ],
   "source": [
    "x_m = GetNewtonRaphson(Optica,Derivative,SecondDerivative,1)\n",
    "x_m"
   ]
  },
  {
   "cell_type": "code",
   "execution_count": 79,
   "id": "6bd86ee2",
   "metadata": {},
   "outputs": [
    {
     "data": {
      "text/plain": [
       "7.349795676886238"
      ]
     },
     "execution_count": 79,
     "metadata": {},
     "output_type": "execute_result"
    }
   ],
   "source": [
    "minimo_x = Optica(x_m)\n",
    "minimo_x"
   ]
  },
  {
   "cell_type": "code",
   "execution_count": 103,
   "id": "889261e0",
   "metadata": {},
   "outputs": [
    {
     "data": {
      "text/plain": [
       "[0.7652660799934767, -1.0894173128470455]"
      ]
     },
     "execution_count": 103,
     "metadata": {},
     "output_type": "execute_result"
    }
   ],
   "source": [
    "minimo = [minimo_x,0]\n",
    "alfa0=np.arcsin((x-T[0])/((T[1])**2 + (x+T[0])**2)**(1/2))\n",
    "alfa1=np.arcsin((x-R[0])/((R[1])**2 + (x+R[0])**2)**(1/2))\n",
    "\n",
    "alfas = [alfa0, alfa1]\n",
    "alfas #ángulos\n"
   ]
  },
  {
   "cell_type": "code",
   "execution_count": 108,
   "id": "082f9b71",
   "metadata": {},
   "outputs": [
    {
     "data": {
      "text/plain": [
       "0"
      ]
     },
     "execution_count": 108,
     "metadata": {},
     "output_type": "execute_result"
    }
   ],
   "source": []
  },
  {
   "cell_type": "code",
   "execution_count": null,
   "id": "4e57b578",
   "metadata": {},
   "outputs": [],
   "source": []
  }
 ],
 "metadata": {
  "kernelspec": {
   "display_name": "Python 3",
   "language": "python",
   "name": "python3"
  },
  "language_info": {
   "codemirror_mode": {
    "name": "ipython",
    "version": 3
   },
   "file_extension": ".py",
   "mimetype": "text/x-python",
   "name": "python",
   "nbconvert_exporter": "python",
   "pygments_lexer": "ipython3",
   "version": "3.8.8"
  }
 },
 "nbformat": 4,
 "nbformat_minor": 5
}
