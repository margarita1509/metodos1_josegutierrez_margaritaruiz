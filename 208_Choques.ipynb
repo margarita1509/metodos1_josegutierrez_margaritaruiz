{
 "cells": [
  {
   "cell_type": "code",
   "execution_count": 4,
   "id": "6f0f7d67",
   "metadata": {},
   "outputs": [],
   "source": [
    "%matplotlib notebook\n",
    "import numpy as np\n",
    "import matplotlib.pyplot as plt\n",
    "from tqdm import tqdm\n",
    "from time import sleep"
   ]
  },
  {
   "cell_type": "code",
   "execution_count": 13,
   "id": "74623929",
   "metadata": {},
   "outputs": [],
   "source": [
    "class Particle:\n",
    "    \n",
    "    def __init__(self,r0,v0,a0,t,m=1,radius=2.0,Id=0):\n",
    "        \n",
    "        self.dt = t[1] - t[0]\n",
    "        \n",
    "        self.r = r0\n",
    "        self.v = v0\n",
    "        self.a = a0\n",
    "        \n",
    "        self.R = np.zeros((len(t),len(r0)))\n",
    "        self.V = np.zeros_like(self.R)\n",
    "        self.A = np.zeros_like(self.R)\n",
    "        \n",
    "        self.radius = radius\n",
    "    def Evolution(self,i):\n",
    "        \n",
    "        self.SetPosition(i)\n",
    "        self.SetVelocity(i)\n",
    "        \n",
    "        self.r += self.dt*self.v\n",
    "        self.v += self.dt*self.a\n",
    "        \n",
    "    def SetPosition(self,i):\n",
    "        self.R[i] = self.r\n",
    "        \n",
    "    def GetPosition(self,scale=1):\n",
    "        return self.R[::scale]\n",
    "    \n",
    "    def SetVelocity(self,i):\n",
    "        self.V[i] = self.v\n",
    "\n",
    "    def GetVelocity(self,scale=1):\n",
    "        return self.V[::scale]\n",
    "\n",
    "    def CheckLimits(self,Limits):\n",
    "        \n",
    "        for i in range(2):\n",
    "        \n",
    "            if self.r[i] + self.radius > Limits[i][1] and self.v[i] > 0.:\n",
    "                self.v[i] = -1.0*self.v[i]\n",
    "            if self.r[i] - self.radius < Limits[i][0] and self.v[i] < 0.:\n",
    "                self.v[i] = -1.0*self.v[i]\n",
    "                \n",
    "    "
   ]
  },
  {
   "cell_type": "code",
   "execution_count": 14,
   "id": "56f2d89e",
   "metadata": {},
   "outputs": [],
   "source": [
    "r01 = np.array([-15,1])\n",
    "v01 = np.array([10,0])\n",
    "a01 = np.array([0,0])\n",
    "\n",
    "r02 = np.array([0,-1.5])\n",
    "v02 = np.array([0,0])\n",
    "a02 = np.array([0,0])\n",
    "\n",
    "t = np.linspace(0,20,100)\n",
    "K = 100\n",
    "\n",
    "obj1 = Particle(r01,v01,a01,t)\n",
    "obj2 = Particle(r02,v02,a02,t)"
   ]
  },
  {
   "cell_type": "code",
   "execution_count": 20,
   "id": "5aeb96d5",
   "metadata": {},
   "outputs": [
    {
     "ename": "IndentationError",
     "evalue": "expected an indented block (<ipython-input-20-fae420d1d2ac>, line 3)",
     "output_type": "error",
     "traceback": [
      "\u001b[1;36m  File \u001b[1;32m\"<ipython-input-20-fae420d1d2ac>\"\u001b[1;36m, line \u001b[1;32m3\u001b[0m\n\u001b[1;33m    return obj1.r0\u001b[0m\n\u001b[1;37m    ^\u001b[0m\n\u001b[1;31mIndentationError\u001b[0m\u001b[1;31m:\u001b[0m expected an indented block\n"
     ]
    }
   ],
   "source": [
    "def Collision(self):\n",
    "    resta = obj1.r0 -obj2.r0\n",
    "    norma_resta = (((resta[0])**2)+((resta[1])**2))**(1/2)\n",
    "    if norma_resta<(obj1.r+obj2.r):\n",
    "        f = (K*(norma_resta)**3)*(obj1.v01)\n",
    "    return obj1.r0"
   ]
  },
  {
   "cell_type": "code",
   "execution_count": null,
   "id": "dfe8209f",
   "metadata": {},
   "outputs": [],
   "source": []
  }
 ],
 "metadata": {
  "kernelspec": {
   "display_name": "Python 3",
   "language": "python",
   "name": "python3"
  },
  "language_info": {
   "codemirror_mode": {
    "name": "ipython",
    "version": 3
   },
   "file_extension": ".py",
   "mimetype": "text/x-python",
   "name": "python",
   "nbconvert_exporter": "python",
   "pygments_lexer": "ipython3",
   "version": "3.8.8"
  }
 },
 "nbformat": 4,
 "nbformat_minor": 5
}
