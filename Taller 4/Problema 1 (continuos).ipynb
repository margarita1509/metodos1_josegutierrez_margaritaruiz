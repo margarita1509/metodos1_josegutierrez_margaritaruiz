{
 "cells": [
  {
   "cell_type": "code",
   "execution_count": 3,
   "id": "581d553c",
   "metadata": {},
   "outputs": [],
   "source": [
    "import sympy as sym"
   ]
  },
  {
   "cell_type": "code",
   "execution_count": 4,
   "id": "6c1dbc31",
   "metadata": {},
   "outputs": [
    {
     "data": {
      "text/plain": [
       "(0.666666666666667*x + 0.666666666666667,\n",
       " 1.33333333333333*y + 0.333333333333333,\n",
       " 0.555555555555556,\n",
       " 0.611111111111111,\n",
       " -0.00617283950617281,\n",
       " -0.00617283950617284)"
      ]
     },
     "execution_count": 4,
     "metadata": {},
     "output_type": "execute_result"
    }
   ],
   "source": [
    "#Problema 1 (distribución continua)\n",
    "x=sym.Symbol('x')\n",
    "y=sym.Symbol('y')\n",
    "def f_xy(x,y):\n",
    "    f=(2/3)*(x+2*y)\n",
    "    return f\n",
    "f=f_xy(x,y)\n",
    "#b\n",
    "g=sym.integrate(f,(y,0,1))\n",
    "h=sym.integrate(f,(x,0,1))\n",
    "#c\n",
    "E_x=sym.integrate(g*x,(x,0,1))\n",
    "#d\n",
    "E_y=sym.integrate(h*y,(y,0,1))\n",
    "#e\n",
    "E_xy=sym.integrate(f*x*y,(x,0,1),(y,0,1))\n",
    "cov1=E_xy-E_x*E_y\n",
    "#f\n",
    "cov2=sym.integrate((x-E_x)*(y-E_y)*f,(x,0,1),(y,0,1))\n",
    "#Resultados\n",
    "g,h,E_x,E_y,cov1,cov2"
   ]
  },
  {
   "cell_type": "code",
   "execution_count": null,
   "id": "2dba4255",
   "metadata": {},
   "outputs": [],
   "source": []
  }
 ],
 "metadata": {
  "kernelspec": {
   "display_name": "Python 3 (ipykernel)",
   "language": "python",
   "name": "python3"
  },
  "language_info": {
   "codemirror_mode": {
    "name": "ipython",
    "version": 3
   },
   "file_extension": ".py",
   "mimetype": "text/x-python",
   "name": "python",
   "nbconvert_exporter": "python",
   "pygments_lexer": "ipython3",
   "version": "3.9.13"
  }
 },
 "nbformat": 4,
 "nbformat_minor": 5
}
