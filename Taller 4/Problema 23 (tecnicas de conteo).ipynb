{
 "cells": [
  {
   "cell_type": "code",
   "execution_count": 1,
   "id": "40ab8d58",
   "metadata": {},
   "outputs": [],
   "source": [
    "from math import factorial as fac"
   ]
  },
  {
   "cell_type": "code",
   "execution_count": 6,
   "id": "f2b2078a",
   "metadata": {},
   "outputs": [
    {
     "data": {
      "text/plain": [
       "12.0"
      ]
     },
     "execution_count": 6,
     "metadata": {},
     "output_type": "execute_result"
    }
   ],
   "source": [
    "#problema 23\n",
    "n=3 #numero de colores posibles que puede tener una pelota\n",
    "r=1 #numero de pelotas que puedo sacar\n",
    "i=4 #numero de intentos para sacar una pelota\n",
    "comb=fac(n)/(fac(r)*fac(n-r))\n",
    "total_formas=i*comb\n",
    "total_formas"
   ]
  },
  {
   "cell_type": "code",
   "execution_count": null,
   "id": "e8e7d262",
   "metadata": {},
   "outputs": [],
   "source": []
  }
 ],
 "metadata": {
  "kernelspec": {
   "display_name": "Python 3 (ipykernel)",
   "language": "python",
   "name": "python3"
  },
  "language_info": {
   "codemirror_mode": {
    "name": "ipython",
    "version": 3
   },
   "file_extension": ".py",
   "mimetype": "text/x-python",
   "name": "python",
   "nbconvert_exporter": "python",
   "pygments_lexer": "ipython3",
   "version": "3.9.13"
  }
 },
 "nbformat": 4,
 "nbformat_minor": 5
}
