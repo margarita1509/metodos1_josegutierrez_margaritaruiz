{
 "cells": [
  {
   "cell_type": "code",
   "execution_count": 1,
   "id": "f4e423bd",
   "metadata": {},
   "outputs": [],
   "source": [
    "import sympy as sym"
   ]
  },
  {
   "cell_type": "code",
   "execution_count": 2,
   "id": "937b4b0a",
   "metadata": {},
   "outputs": [
    {
     "data": {
      "text/plain": [
       "True"
      ]
     },
     "execution_count": 2,
     "metadata": {},
     "output_type": "execute_result"
    }
   ],
   "source": [
    "#Problema 1 punto a (continuos)\n",
    "x=sym.Symbol('x')\n",
    "y=sym.Symbol('y')\n",
    "def f_xy(x,y):\n",
    "    f=(2/3)*(x+2*y)\n",
    "    return f\n",
    "es_fun_conjunta=False\n",
    "f=f_xy(x,y)\n",
    "if 1==sym.integrate(f,(x,0,1),(y,0,1)):\n",
    "    es_fun_conjunta=True\n",
    "es_fun_conjunta"
   ]
  }
 ],
 "metadata": {
  "kernelspec": {
   "display_name": "Python 3 (ipykernel)",
   "language": "python",
   "name": "python3"
  },
  "language_info": {
   "codemirror_mode": {
    "name": "ipython",
    "version": 3
   },
   "file_extension": ".py",
   "mimetype": "text/x-python",
   "name": "python",
   "nbconvert_exporter": "python",
   "pygments_lexer": "ipython3",
   "version": "3.9.13"
  }
 },
 "nbformat": 4,
 "nbformat_minor": 5
}
