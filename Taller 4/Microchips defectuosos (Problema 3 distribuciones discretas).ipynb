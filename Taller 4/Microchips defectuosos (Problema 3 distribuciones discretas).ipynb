{
 "cells": [
  {
   "cell_type": "code",
   "execution_count": 1,
   "id": "5a9ec793",
   "metadata": {},
   "outputs": [],
   "source": [
    "from math import factorial as fac"
   ]
  },
  {
   "cell_type": "code",
   "execution_count": 2,
   "id": "72db4081",
   "metadata": {},
   "outputs": [
    {
     "data": {
      "text/plain": [
       "(0.4666666666666667, 0.4666666666666667, 0.06666666666666667, 0.6)"
      ]
     },
     "execution_count": 2,
     "metadata": {},
     "output_type": "execute_result"
    }
   ],
   "source": [
    "#Problema 3 (microchips) \n",
    "#a\n",
    "def comb(N,n0):\n",
    "    lol=0\n",
    "    if n0>N or n0<0:\n",
    "        lol=0\n",
    "    else:\n",
    "        lol=fac(N)/(fac(n0)*fac(N-n0))\n",
    "    return lol\n",
    "N=10 #Número de microchips a elegir\n",
    "defec=3 #Número de microchips defectuosos\n",
    "selec=2 #Número de microchips comprados\n",
    "def f(x):\n",
    "    f=comb(N-defec,selec-x)*comb(defec,x)/comb(N,selec)\n",
    "    return f\n",
    "#b\n",
    "mu=1*f(1)+2*f(2)\n",
    "#Resultados\n",
    "f(0),f(1),f(2),mu"
   ]
  }
 ],
 "metadata": {
  "kernelspec": {
   "display_name": "Python 3 (ipykernel)",
   "language": "python",
   "name": "python3"
  },
  "language_info": {
   "codemirror_mode": {
    "name": "ipython",
    "version": 3
   },
   "file_extension": ".py",
   "mimetype": "text/x-python",
   "name": "python",
   "nbconvert_exporter": "python",
   "pygments_lexer": "ipython3",
   "version": "3.9.13"
  }
 },
 "nbformat": 4,
 "nbformat_minor": 5
}
