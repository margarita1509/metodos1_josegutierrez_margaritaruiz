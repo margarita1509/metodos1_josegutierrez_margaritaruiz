{
 "cells": [
  {
   "cell_type": "code",
   "execution_count": 3,
   "id": "b15f71ae",
   "metadata": {},
   "outputs": [],
   "source": [
    "import numpy as np\n",
    "from math import factorial as fac"
   ]
  },
  {
   "cell_type": "code",
   "execution_count": 4,
   "id": "529b8d8d",
   "metadata": {},
   "outputs": [
    {
     "data": {
      "text/plain": [
       "(array([0.07142857, 0.42857143, 0.42857143, 0.07142857]),\n",
       " array([0.21428571, 0.57142857, 0.21428571]),\n",
       " 1.5,\n",
       " 1.0,\n",
       " -0.2142857142857144,\n",
       " -0.21428571428571425)"
      ]
     },
     "execution_count": 4,
     "metadata": {},
     "output_type": "execute_result"
    }
   ],
   "source": [
    "#Problema 4 (caja cuántica)\n",
    "e=3\n",
    "p=2\n",
    "n=3\n",
    "m=4\n",
    "N=n+e+p\n",
    "def comb(N,n0):\n",
    "    lol=0\n",
    "    if n0>N or n0<0:\n",
    "        lol=0\n",
    "    else:\n",
    "        lol=fac(N)/(fac(n0)*fac(N-n0))\n",
    "    return lol\n",
    "def fxy(x,y):\n",
    "    return comb(e,x)*comb(p,y)*comb(n,m-x-y)/comb(N,m)\n",
    "#b\n",
    "mat_marg=np.zeros((4,3))\n",
    "for i in range(4):\n",
    "    for j in range(3):\n",
    "        if 4-i-j>3 or 4-i-j<0:\n",
    "            mat_marg[i][j]=0\n",
    "        else:\n",
    "            mat_marg[i][j]=fxy(i,j)\n",
    "g_x=mat_marg@np.ones(3)\n",
    "h_y=np.ones(4)@mat_marg\n",
    "#c \n",
    "vec_e=np.array([0,1,2,3])\n",
    "E_e=(g_x)@vec_e\n",
    "sum_e=np.sum(mat_marg,axis=1)@vec_e\n",
    "#d\n",
    "vec_p=np.array([0,1,2])\n",
    "E_p=(h_y)@vec_p\n",
    "sum_p=np.sum(mat_marg,axis=0)@vec_p\n",
    "#e\n",
    "E_pye=0\n",
    "for i in range(4):\n",
    "    for j in range(3):\n",
    "        E_pye+=i*j*fxy(i,j)\n",
    "cov1=E_pye-E_e*E_p\n",
    "#f\n",
    "cov2=0\n",
    "for i in range(4):\n",
    "    for j in range(3):\n",
    "        cov2+=(i-E_e)*(j-E_p)*fxy(i,j)\n",
    "#Respuestas:\n",
    "g_x,h_y,E_e,E_p,cov1,cov2"
   ]
  },
  {
   "cell_type": "code",
   "execution_count": null,
   "id": "eb81c460",
   "metadata": {},
   "outputs": [],
   "source": []
  }
 ],
 "metadata": {
  "kernelspec": {
   "display_name": "Python 3 (ipykernel)",
   "language": "python",
   "name": "python3"
  },
  "language_info": {
   "codemirror_mode": {
    "name": "ipython",
    "version": 3
   },
   "file_extension": ".py",
   "mimetype": "text/x-python",
   "name": "python",
   "nbconvert_exporter": "python",
   "pygments_lexer": "ipython3",
   "version": "3.9.13"
  }
 },
 "nbformat": 4,
 "nbformat_minor": 5
}
