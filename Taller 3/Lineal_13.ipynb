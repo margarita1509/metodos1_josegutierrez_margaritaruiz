{
 "cells": [
  {
   "cell_type": "code",
   "execution_count": 1,
   "id": "5665abbb",
   "metadata": {},
   "outputs": [],
   "source": [
    "import numpy as np\n",
    "import sympy as sym"
   ]
  },
  {
   "cell_type": "code",
   "execution_count": 4,
   "id": "2433cd52",
   "metadata": {},
   "outputs": [],
   "source": [
    "Jx = np.array([[0,0,0],[0,0,-1],[0,1,0]])\n",
    "Jy = np.array([[0,0,1],[0,0,0],[-1,0,0]])\n",
    "Jz = np.array([[0,-1,0],[1,0,0],[0,0,0]])\n",
    "\n",
    "J = np.array([Jx,Jy,Jz])"
   ]
  },
  {
   "cell_type": "code",
   "execution_count": 38,
   "id": "059640fd",
   "metadata": {},
   "outputs": [],
   "source": [
    "def LeviCivita(v):\n",
    "    e = 0\n",
    "    if (v == [1,2,3]) or (v == [2,3,1]) or (v == [3,1,2]):\n",
    "        e = 1\n",
    "    elif (v == [3,2,1]) or (v == [1,3,2]) or (v == [2,1,3]):\n",
    "        e = -1\n",
    "    return e"
   ]
  },
  {
   "cell_type": "code",
   "execution_count": 51,
   "id": "05b65150",
   "metadata": {},
   "outputs": [],
   "source": [
    "def AlgebraLie(n1,n2):\n",
    "    a = [1,2,3]\n",
    "    if n1 != n2:\n",
    "        a.remove(n1)\n",
    "        a.remove(n2)\n",
    "\n",
    "    e = LeviCivita([n1,n2,a[0]])\n",
    "    \n",
    "    return e*J[a[0]-1]"
   ]
  },
  {
   "cell_type": "code",
   "execution_count": 52,
   "id": "9eba7014",
   "metadata": {},
   "outputs": [
    {
     "data": {
      "text/plain": [
       "array([[ 0,  1,  0],\n",
       "       [-1,  0,  0],\n",
       "       [ 0,  0,  0]])"
      ]
     },
     "execution_count": 52,
     "metadata": {},
     "output_type": "execute_result"
    }
   ],
   "source": [
    "AlgebraLie(2,1)"
   ]
  },
  {
   "cell_type": "code",
   "execution_count": 53,
   "id": "4ff43a25",
   "metadata": {},
   "outputs": [
    {
     "data": {
      "text/plain": [
       "array([[ 0,  1,  0],\n",
       "       [-1,  0,  0],\n",
       "       [ 0,  0,  0]])"
      ]
     },
     "execution_count": 53,
     "metadata": {},
     "output_type": "execute_result"
    }
   ],
   "source": [
    "def Conmutator(n1,n2):\n",
    "    return (J[n1-1]@J[n2-1])-(J[n2-1]@J[n1-1])\n",
    "Conmutator(2,1)"
   ]
  },
  {
   "cell_type": "code",
   "execution_count": 50,
   "id": "53ecc010",
   "metadata": {},
   "outputs": [
    {
     "name": "stdout",
     "output_type": "stream",
     "text": [
      "Por lo anterior, se observa que se cumple el álgebra de Lie generada a partir de la fórmula y el conmutador de las matrices i y j del grupo.\n",
      "\n"
     ]
    }
   ],
   "source": [
    "print('Por lo anterior, se observa que se cumple el álgebra de Lie generada a partir de la fórmula y el conmutador de las matrices i y j del grupo.\\n')"
   ]
  }
 ],
 "metadata": {
  "kernelspec": {
   "display_name": "Python 3",
   "language": "python",
   "name": "python3"
  },
  "language_info": {
   "codemirror_mode": {
    "name": "ipython",
    "version": 3
   },
   "file_extension": ".py",
   "mimetype": "text/x-python",
   "name": "python",
   "nbconvert_exporter": "python",
   "pygments_lexer": "ipython3",
   "version": "3.8.8"
  }
 },
 "nbformat": 4,
 "nbformat_minor": 5
}
