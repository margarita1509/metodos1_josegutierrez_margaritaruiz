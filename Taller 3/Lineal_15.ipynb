{
 "cells": [
  {
   "cell_type": "code",
   "execution_count": 1,
   "id": "f888aaf3",
   "metadata": {},
   "outputs": [],
   "source": [
    "import numpy as np\n",
    "import sympy as sym"
   ]
  },
  {
   "cell_type": "code",
   "execution_count": 2,
   "id": "4ea6fbb9",
   "metadata": {},
   "outputs": [],
   "source": [
    "J0 = np.array([[1,0,0,0],[0,1,0,0],[0,0,-1,0],[0,0,0,-1]])\n",
    "J1 = np.array([[0,0,0,1],[0,0,1,0],[0,-1,0,0],[-1,0,0,0]])\n",
    "J2 = np.array([[0,0,0,-1j],[0,0,1j,0],[0,1j,0,0],[-1j,0,0,0]])\n",
    "J3 = np.array([[0,0,1,0],[0,0,0,-1],[-1,0,0,0],[0,1,0,0]])\n",
    "\n",
    "J = np.array([J0,J1,J2,J3])"
   ]
  },
  {
   "cell_type": "code",
   "execution_count": 19,
   "id": "0e5d3626",
   "metadata": {},
   "outputs": [
    {
     "data": {
      "text/plain": [
       "array([[ 1,  0,  0,  0],\n",
       "       [ 0, -1,  0,  0],\n",
       "       [ 0,  0, -1,  0],\n",
       "       [ 0,  0,  0, -1]])"
      ]
     },
     "execution_count": 19,
     "metadata": {},
     "output_type": "execute_result"
    }
   ],
   "source": [
    "Nuv = np.array([[1,0,0,0],[0,-1,0,0],[0,0,-1,0],[0,0,0,-1]])\n",
    "Nuv"
   ]
  },
  {
   "cell_type": "code",
   "execution_count": 22,
   "id": "d5ac01b4",
   "metadata": {},
   "outputs": [
    {
     "data": {
      "text/plain": [
       "array([[0., 0., 0., 0.],\n",
       "       [0., 0., 0., 0.],\n",
       "       [0., 0., 0., 0.],\n",
       "       [0., 0., 0., 0.]])"
      ]
     },
     "execution_count": 22,
     "metadata": {},
     "output_type": "execute_result"
    }
   ],
   "source": [
    "def CliffAlgebra(n1,n2):\n",
    "    a =  Nuv[n1][n2]\n",
    "    return 2*a*np.eye(4)\n",
    "CliffAlgebra(1,2)"
   ]
  },
  {
   "cell_type": "code",
   "execution_count": 23,
   "id": "3f1e8b62",
   "metadata": {},
   "outputs": [
    {
     "data": {
      "text/plain": [
       "array([[0.+0.j, 0.+0.j, 0.+0.j, 0.+0.j],\n",
       "       [0.+0.j, 0.+0.j, 0.+0.j, 0.+0.j],\n",
       "       [0.+0.j, 0.+0.j, 0.+0.j, 0.+0.j],\n",
       "       [0.+0.j, 0.+0.j, 0.+0.j, 0.+0.j]])"
      ]
     },
     "execution_count": 23,
     "metadata": {},
     "output_type": "execute_result"
    }
   ],
   "source": [
    "def AntiConmutator(n1,n2):\n",
    "    return ((J[n1]@J[n2])+(J[n2]@J[n1]))\n",
    "AntiConmutator(1,2)"
   ]
  },
  {
   "cell_type": "code",
   "execution_count": 26,
   "id": "10b936d2",
   "metadata": {},
   "outputs": [
    {
     "name": "stdout",
     "output_type": "stream",
     "text": [
      "Por lo anterior, se observa que se cumple el álgebra de Clifford generada por el anticonmutador de las matrices del grupo.\n",
      "En la mayoría de los casos el anticonmutador es una matriz de ceros.\n",
      "\n"
     ]
    }
   ],
   "source": [
    "print('Por lo anterior, se observa que se cumple el álgebra de Clifford generada por el anticonmutador de las matrices del grupo.\\nEn la mayoría de los casos el anticonmutador es una matriz de ceros.\\n')"
   ]
  },
  {
   "cell_type": "code",
   "execution_count": null,
   "id": "2676a2dd",
   "metadata": {},
   "outputs": [],
   "source": []
  }
 ],
 "metadata": {
  "kernelspec": {
   "display_name": "Python 3",
   "language": "python",
   "name": "python3"
  },
  "language_info": {
   "codemirror_mode": {
    "name": "ipython",
    "version": 3
   },
   "file_extension": ".py",
   "mimetype": "text/x-python",
   "name": "python",
   "nbconvert_exporter": "python",
   "pygments_lexer": "ipython3",
   "version": "3.8.8"
  }
 },
 "nbformat": 4,
 "nbformat_minor": 5
}
