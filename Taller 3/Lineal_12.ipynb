{
 "cells": [
  {
   "cell_type": "code",
   "execution_count": 1,
   "id": "2f55a0fc",
   "metadata": {},
   "outputs": [],
   "source": [
    "import numpy as np\n",
    "import sympy as sym"
   ]
  },
  {
   "cell_type": "code",
   "execution_count": 3,
   "id": "cb996282",
   "metadata": {},
   "outputs": [],
   "source": [
    "def Jacobian(f,v,h=0.01):\n",
    "    J = np.zeros(3)\n",
    "    \n",
    "    \n",
    "    \n",
    "    J[0] = (f([v[0]+h,v[1],v[2]]) - f([v[0]-h,v[1],v[2]]))/(2*h)\n",
    "    J[1] = (f([v[0],v[1]+h,v[2]]) - f([v[0],v[1]-h,v[2]]))/(2*h)\n",
    "    J[2] = (f([v[0],v[1],v[2]+h]) - f([v[0],v[1],v[2]-h]))/(2*h)\n",
    "    return J"
   ]
  },
  {
   "cell_type": "code",
   "execution_count": 8,
   "id": "7b1f19d0",
   "metadata": {},
   "outputs": [
    {
     "data": {
      "text/plain": [
       "(array([-1.16820118, -1.16820118, 60.        ]),\n",
       " array([-1.16820118, -1.16820118, 60.        ]))"
      ]
     },
     "execution_count": 8,
     "metadata": {},
     "output_type": "execute_result"
    }
   ],
   "source": [
    "Function = lambda v: 60*v[2] + 3*np.exp(-v[0]*v[1]) + 10*np.pi -3\n",
    "Vector = [0.5,0.5,0.5]\n",
    "J2 = Jacobian(Function,Vector)"
   ]
  },
  {
   "cell_type": "code",
   "execution_count": null,
   "id": "f73ddbe7",
   "metadata": {},
   "outputs": [],
   "source": []
  }
 ],
 "metadata": {
  "kernelspec": {
   "display_name": "Python 3",
   "language": "python",
   "name": "python3"
  },
  "language_info": {
   "codemirror_mode": {
    "name": "ipython",
    "version": 3
   },
   "file_extension": ".py",
   "mimetype": "text/x-python",
   "name": "python",
   "nbconvert_exporter": "python",
   "pygments_lexer": "ipython3",
   "version": "3.8.8"
  }
 },
 "nbformat": 4,
 "nbformat_minor": 5
}
