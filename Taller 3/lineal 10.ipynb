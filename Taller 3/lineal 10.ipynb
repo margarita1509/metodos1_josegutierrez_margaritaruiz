{
 "cells": [
  {
   "cell_type": "code",
   "execution_count": 1,
   "id": "6c9e52a9",
   "metadata": {},
   "outputs": [],
   "source": [
    "import numpy as np"
   ]
  },
  {
   "cell_type": "code",
   "execution_count": 31,
   "id": "d192c227",
   "metadata": {},
   "outputs": [],
   "source": [
    "def pot_inv(A, tole=1e-6, it_max=1000):\n",
    "    n=A.shape[0]\n",
    "    x=np.array([0,0,1])\n",
    "    x=x/np.linalg.norm(x)\n",
    "    miu=np.linalg.solve(A,x)\n",
    "    miu=miu/np.linalg.norm(miu)\n",
    "    I=np.zeros((n,n))\n",
    "    for i in range(len(I)):\n",
    "         I[i][i]=1\n",
    "    for i in range(it_max):\n",
    "        xant=x\n",
    "        x=np.linalg.solve(A-miu*I, x)\n",
    "        x=x/np.linalg.norm(x)\n",
    "        miu=x@(A@x)\n",
    "        if tole>np.linalg.norm(x-xant):\n",
    "            break\n",
    "    return miu,-x"
   ]
  },
  {
   "cell_type": "code",
   "execution_count": 32,
   "id": "fdddf90f",
   "metadata": {},
   "outputs": [
    {
     "data": {
      "text/plain": [
       "(0.9999999999999997, array([ 0.40824829, -0.40824829, -0.81649658]))"
      ]
     },
     "execution_count": 32,
     "metadata": {},
     "output_type": "execute_result"
    }
   ],
   "source": [
    "A = np.array([[1, 2, -1], [1, 0, 1], [4, -4, 5]])\n",
    "miu, x=pot_inv(A)\n",
    "miu,x"
   ]
  },
  {
   "cell_type": "code",
   "execution_count": null,
   "id": "39c9b0aa",
   "metadata": {},
   "outputs": [],
   "source": []
  },
  {
   "cell_type": "code",
   "execution_count": null,
   "id": "86d0f380",
   "metadata": {},
   "outputs": [],
   "source": []
  }
 ],
 "metadata": {
  "kernelspec": {
   "display_name": "Python 3 (ipykernel)",
   "language": "python",
   "name": "python3"
  },
  "language_info": {
   "codemirror_mode": {
    "name": "ipython",
    "version": 3
   },
   "file_extension": ".py",
   "mimetype": "text/x-python",
   "name": "python",
   "nbconvert_exporter": "python",
   "pygments_lexer": "ipython3",
   "version": "3.9.13"
  }
 },
 "nbformat": 4,
 "nbformat_minor": 5
}
