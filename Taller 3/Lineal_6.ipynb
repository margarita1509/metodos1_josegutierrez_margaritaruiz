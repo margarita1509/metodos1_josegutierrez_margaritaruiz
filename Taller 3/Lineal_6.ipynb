{
 "cells": [
  {
   "cell_type": "code",
   "execution_count": 10,
   "id": "9f8ba6da",
   "metadata": {},
   "outputs": [],
   "source": [
    "%matplotlib notebook\n",
    "import numpy as np\n",
    "import matplotlib.pyplot as plt\n",
    "from mpl_toolkits.mplot3d import axes3d"
   ]
  },
  {
   "cell_type": "code",
   "execution_count": 11,
   "id": "1053b44c",
   "metadata": {},
   "outputs": [
    {
     "data": {
      "text/plain": [
       "3"
      ]
     },
     "execution_count": 11,
     "metadata": {},
     "output_type": "execute_result"
    }
   ],
   "source": [
    "A = np.array([[3,-1,-1],[-1.,3.,1.],[2,1,4]])\n",
    "b = np.array([1.,3.,7.])\n",
    "A.shape[1]"
   ]
  },
  {
   "cell_type": "code",
   "execution_count": 62,
   "id": "af5b9721",
   "metadata": {},
   "outputs": [],
   "source": [
    "def SOR(A,b,x0, w, itmax=1000, tolerancia= 10e-3):\n",
    "    x = x0.copy()\n",
    "    it_min = 0\n",
    "    for it in range(1, 1000):\n",
    "        xn = np.zeros(len(A[0]))\n",
    "        for i in range(len(A[0])):\n",
    "            sum_1 = np.dot(A[i,:i], xn[:i])\n",
    "            sum_2 = np.dot(A[i,i+1:], x[i+1:])\n",
    "            xn[i] = (1-w)*x[i] + (w*(b[i] - sum_1 -sum_2)/A[i,i])\n",
    "            \n",
    "        residuo = np.linalg.norm(np.dot(A,x)-b)\n",
    "        if np.allclose(residuo,tolerancia,atol=tolerancia):\n",
    "            it_min = it\n",
    "            break\n",
    "        x = xn\n",
    "    return x,it_min"
   ]
  },
  {
   "cell_type": "code",
   "execution_count": 63,
   "id": "44b7bfcb",
   "metadata": {},
   "outputs": [
    {
     "data": {
      "text/plain": [
       "(array([0.99641905, 1.00041338, 1.00400341]), 216)"
      ]
     },
     "execution_count": 63,
     "metadata": {},
     "output_type": "execute_result"
    }
   ],
   "source": [
    "SOR(A,b,np.zeros(3),1.4)"
   ]
  },
  {
   "cell_type": "code",
   "execution_count": 64,
   "id": "df05c7f0",
   "metadata": {},
   "outputs": [
    {
     "name": "stdout",
     "output_type": "stream",
     "text": [
      "(array([0.99917354, 0.99365139, 1.00578336]), 204) 0.04081632653061224\n",
      "(array([0.99910275, 0.99351062, 1.00585288]), 100) 0.08163265306122448\n",
      "(array([0.9990894 , 0.99373272, 1.00558956]), 66) 0.12244897959183673\n",
      "(array([0.99907881, 0.99396499, 1.00531997]), 49) 0.16326530612244897\n",
      "(array([0.99894126, 0.9934932 , 1.00567728]), 38) 0.2040816326530612\n",
      "(array([0.99886257, 0.9933819 , 1.00570755]), 31) 0.24489795918367346\n",
      "(array([0.99878103, 0.99327849, 1.00572661]), 26) 0.2857142857142857\n",
      "(array([0.99893586, 0.9943382 , 1.00474707]), 23) 0.32653061224489793\n",
      "(array([0.99886839, 0.99429458, 1.00471914]), 20) 0.36734693877551017\n",
      "(array([0.99852285, 0.99303889, 1.00569608]), 17) 0.4081632653061224\n",
      "(array([0.99837761, 0.99275719, 1.00584199]), 15) 0.44897959183673464\n",
      "(array([0.9986646 , 0.99426648, 1.00453096]), 14) 0.4897959183673469\n",
      "(array([0.99812633, 0.99246898, 1.00588037]), 12) 0.5306122448979591\n",
      "(array([0.99817475, 0.99301684, 1.00534491]), 11) 0.5714285714285714\n",
      "(array([0.99809569, 0.99310028, 1.00517639]), 10) 0.6122448979591836\n",
      "(array([0.99786602, 0.99269772, 1.00536749]), 9) 0.6530612244897959\n",
      "(array([0.9986704 , 0.99575704, 1.00303181]), 9) 0.6938775510204082\n",
      "(array([0.99835608, 0.99508676, 1.00343044]), 8) 0.7346938775510203\n",
      "(array([0.9977912 , 0.99381519, 1.00420884]), 7) 0.7755102040816326\n",
      "(array([0.99675646, 0.99146373, 1.00563862]), 6) 0.8163265306122448\n",
      "(array([0.99789741, 0.99516238, 1.00312369]), 6) 0.8571428571428571\n",
      "(array([0.99638317, 0.992613  , 1.00465183]), 5) 0.8979591836734693\n",
      "(array([0.99884647, 0.99602997, 1.00205443]), 5) 0.9387755102040816\n",
      "(array([0.99885969, 0.99986676, 1.00057261]), 6) 0.9795918367346939\n",
      "(array([0.99634114, 1.00090347, 1.00176039]), 6) 1.0204081632653061\n",
      "(array([1.00344033, 0.99911877, 0.99807204]), 7) 1.0612244897959182\n",
      "(array([0.99607673, 1.00094828, 1.00250106]), 8) 1.1020408163265305\n",
      "(array([0.99738234, 1.00059011, 1.00185913]), 10) 1.1428571428571428\n",
      "(array([0.99734772, 1.0005532 , 1.00206823]), 12) 1.183673469387755\n",
      "(array([0.99617022, 1.0007328 , 1.00324366]), 14) 1.2244897959183672\n",
      "(array([1.00284979, 0.99950452, 0.99740038]), 19) 1.2653061224489794\n",
      "(array([0.99676578, 1.00050532, 1.00315639]), 26) 1.3061224489795917\n",
      "(array([0.99655754, 1.00047687, 1.00357457]), 42) 1.346938775510204\n",
      "(array([0.9963658, 1.0004389, 1.0039967]), 110) 1.3877551020408163\n",
      "(array([-5.03996357e+12,  5.19106783e+11,  5.84738224e+12]), 0) 1.4285714285714284\n",
      "(array([-3.50712087e+44,  2.98942006e+43,  4.27823331e+44]), 0) 1.4693877551020407\n",
      "(array([-3.17977321e+74,  2.14658603e+73,  4.06646442e+74]), 0) 1.510204081632653\n",
      "(array([-6.41320703e+102,  3.19493115e+101,  8.57598624e+102]), 0) 1.5510204081632653\n",
      "(array([-4.46914983e+129,  1.43816550e+128,  6.23489603e+129]), 0) 1.5918367346938773\n",
      "(array([-1.55321114e+155,  2.26776412e+153,  2.25602327e+155]), 0) 1.6326530612244896\n",
      "(array([-3.66761385e+179, -1.06892776e+177,  5.53615329e+179]), 0) 1.673469387755102\n",
      "(array([-7.65469753e+202, -1.55857203e+201,  1.19878918e+203]), 0) 1.7142857142857142\n",
      "(array([-1.76966606e+225, -6.67799864e+223,  2.87105016e+225]), 0) 1.7551020408163265\n",
      "(array([-5.50855682e+246, -3.03175289e+245,  9.24534630e+246]), 0) 1.7959183673469385\n",
      "(array([-2.73637375e+267, -1.97739124e+266,  4.74512283e+267]), 0) 1.8367346938775508\n",
      "(array([-2.51755479e+287, -2.25102477e+286,  4.50538619e+287]), 0) 1.8775510204081631\n",
      "(array([-4.89156305e+306, -5.20885364e+305,  9.02432288e+306]), 0) 1.9183673469387754\n",
      "(array([nan, nan, nan]), 0) 1.9591836734693877\n"
     ]
    },
    {
     "name": "stderr",
     "output_type": "stream",
     "text": [
      "<ipython-input-62-37570cf053df>:9: RuntimeWarning: overflow encountered in double_scalars\n",
      "  xn[i] = (1-w)*x[i] + (w*(b[i] - sum_1 -sum_2)/A[i,i])\n",
      "<ipython-input-62-37570cf053df>:9: RuntimeWarning: invalid value encountered in double_scalars\n",
      "  xn[i] = (1-w)*x[i] + (w*(b[i] - sum_1 -sum_2)/A[i,i])\n"
     ]
    }
   ],
   "source": [
    "wi = np.linspace(0,2,50)\n",
    "it_min = 1000\n",
    "\n",
    "for i in range(1,len(wi)-1):\n",
    "    a = SOR(A,b,np.zeros(3),wi[i])\n",
    "    print(a,wi[i])"
   ]
  },
  {
   "cell_type": "code",
   "execution_count": 50,
   "id": "6dab86d8",
   "metadata": {},
   "outputs": [
    {
     "name": "stdout",
     "output_type": "stream",
     "text": [
      "Se observa que cuando el w excede 1.3 los resultados son muy imprecisos al obtener números muy grandes y las iteraciones incrementan drásticamente.\n",
      "\n"
     ]
    }
   ],
   "source": [
    "print('Se observa que cuando el w excede 1.3 los resultados son muy imprecisos al obtener números muy grandes y las iteraciones incrementan drásticamente.\\n')"
   ]
  },
  {
   "cell_type": "code",
   "execution_count": 58,
   "id": "79d54e36",
   "metadata": {},
   "outputs": [
    {
     "data": {
      "text/plain": [
       "(5, 0.9020408163265307)"
      ]
     },
     "execution_count": 58,
     "metadata": {},
     "output_type": "execute_result"
    }
   ],
   "source": [
    "#Para w<1.3\n",
    "\n",
    "we = np.linspace(0,1.3,50)\n",
    "it_min = 1000\n",
    "wmin = 0\n",
    "\n",
    "for i in range(1,len(wi)-1):\n",
    "    a = SOR(A,b,np.zeros(3),we[i])[-1]\n",
    "    if a < it_min:\n",
    "        it_min = a\n",
    "        wmin = we[i]\n",
    "        \n",
    "it_min,wmin"
   ]
  },
  {
   "cell_type": "code",
   "execution_count": 60,
   "id": "17bb6f86",
   "metadata": {},
   "outputs": [
    {
     "name": "stdout",
     "output_type": "stream",
     "text": [
      "Se observa que la cantidad mínima de iteraciones para el método es 5 con un w = 0.90204..\n"
     ]
    }
   ],
   "source": [
    "print('Se observa que la cantidad mínima de iteraciones para el método es 5 con un w = 0.90204..')"
   ]
  },
  {
   "cell_type": "code",
   "execution_count": null,
   "id": "e3f0bc04",
   "metadata": {},
   "outputs": [],
   "source": []
  }
 ],
 "metadata": {
  "kernelspec": {
   "display_name": "Python 3",
   "language": "python",
   "name": "python3"
  },
  "language_info": {
   "codemirror_mode": {
    "name": "ipython",
    "version": 3
   },
   "file_extension": ".py",
   "mimetype": "text/x-python",
   "name": "python",
   "nbconvert_exporter": "python",
   "pygments_lexer": "ipython3",
   "version": "3.8.8"
  }
 },
 "nbformat": 4,
 "nbformat_minor": 5
}
