{
 "cells": [
  {
   "cell_type": "code",
   "execution_count": 66,
   "id": "e23d7d9b",
   "metadata": {},
   "outputs": [],
   "source": [
    "%matplotlib notebook\n",
    "import numpy as np\n",
    "import sympy as sym\n",
    "from sympy import solve"
   ]
  },
  {
   "cell_type": "code",
   "execution_count": 67,
   "id": "cc2787c6",
   "metadata": {},
   "outputs": [],
   "source": [
    "A = np.array([[4,-2,1],[20,-7,12],[-8,13,17]])"
   ]
  },
  {
   "cell_type": "code",
   "execution_count": 81,
   "id": "6170af1d",
   "metadata": {},
   "outputs": [],
   "source": [
    "a = sym.Symbol('a')\n",
    "b = sym.Symbol('b')\n",
    "c = sym.Symbol('c')\n",
    "d = sym.Symbol('d')\n",
    "e = sym.Symbol('e')\n",
    "f = sym.Symbol('f')\n",
    "g = sym.Symbol('g')\n",
    "h = sym.Symbol('h')\n",
    "l = sym.Symbol('l')\n",
    "                      \n",
    "L=np.array([[1,0,0],\n",
    "            [a,1,0],\n",
    "            [b,c,1]])\n",
    "\n",
    "U=np.array([[d,e,f],\n",
    "          [0,g,h],\n",
    "          [0,0,l]])\n"
   ]
  },
  {
   "cell_type": "code",
   "execution_count": 82,
   "id": "b7456956",
   "metadata": {},
   "outputs": [
    {
     "data": {
      "text/plain": [
       "array([[d, e, f],\n",
       "       [a*d, a*e + g, a*f + h],\n",
       "       [b*d, b*e + c*g, b*f + c*h + l]], dtype=object)"
      ]
     },
     "execution_count": 82,
     "metadata": {},
     "output_type": "execute_result"
    }
   ],
   "source": [
    "prodi = [[0,0,0],[0,0,0],[0,0,0]]\n",
    "for i in range(3):\n",
    "    vl = L[i]\n",
    "    for j in range(3):\n",
    "        colu = U[:,j]\n",
    "        prod = np.dot(colu,vl)\n",
    "        prodi[i][j] = prod\n",
    "p = np.array(prodi)\n",
    "p\n",
    "#p corresponde a el producto matricial entre U y L, teniendo los coeficientes como incógnitas"
   ]
  },
  {
   "cell_type": "code",
   "execution_count": 83,
   "id": "0df940db",
   "metadata": {},
   "outputs": [
    {
     "data": {
      "text/plain": [
       "{d: 4, e: -2, f: 1}"
      ]
     },
     "execution_count": 83,
     "metadata": {},
     "output_type": "execute_result"
    }
   ],
   "source": [
    "k = sym.Eq(p[0][0],A[0][0])\n",
    "r = sym.Eq(p[0][1],A[0][1])\n",
    "z = sym.Eq(p[0][2],A[0][2])\n",
    "\n",
    "x0 = sym.solve([k,r,z],(d,e,f))\n",
    "x0"
   ]
  },
  {
   "cell_type": "code",
   "execution_count": 84,
   "id": "c16d4709",
   "metadata": {},
   "outputs": [
    {
     "data": {
      "text/plain": [
       "{a: 20/d, g: (-7*d - 20*e)/d}"
      ]
     },
     "execution_count": 84,
     "metadata": {},
     "output_type": "execute_result"
    }
   ],
   "source": [
    "d0 = x0[d]\n",
    "e0 = x0[e]\n",
    "f0 = x0[f]\n",
    "\n",
    "f = sym.Eq(p[1][0],A[1][0])\n",
    "w = sym.Eq(p[1][1],A[1][1])\n",
    "\n",
    "x1 = sym.solve([f,w],(a,g))\n",
    "x1"
   ]
  },
  {
   "cell_type": "code",
   "execution_count": 85,
   "id": "91d2749a",
   "metadata": {},
   "outputs": [],
   "source": [
    "a0 = 20/d0\n",
    "g0 = (-7*d0 - 20*e0)/d0"
   ]
  },
  {
   "cell_type": "code",
   "execution_count": 86,
   "id": "34271bea",
   "metadata": {},
   "outputs": [
    {
     "data": {
      "text/plain": [
       "{b: -2, c: 3}"
      ]
     },
     "execution_count": 86,
     "metadata": {},
     "output_type": "execute_result"
    }
   ],
   "source": [
    "m = sym.Eq(b*d0,A[2][0])\n",
    "n = sym.Eq(b*e0 + c*g0,A[2][1])\n",
    "\n",
    "x2 = sym.solve([m,n],(b,c))\n",
    "x2"
   ]
  },
  {
   "cell_type": "code",
   "execution_count": 74,
   "id": "523acc1c",
   "metadata": {},
   "outputs": [],
   "source": [
    "b0 = x2[b]\n",
    "c0 = x2[c]"
   ]
  },
  {
   "cell_type": "code",
   "execution_count": 88,
   "id": "e082396b",
   "metadata": {},
   "outputs": [
    {
     "data": {
      "text/plain": [
       "{h: 7, l: -2}"
      ]
     },
     "execution_count": 88,
     "metadata": {},
     "output_type": "execute_result"
    }
   ],
   "source": [
    "p = sym.Eq(a0*f0 + h,A[1][2])\n",
    "q = sym.Eq((b0*f0 + c0*h + l),A[2][2])\n",
    "\n",
    "x3 = sym.solve([p,q],(h,l))\n",
    "x3"
   ]
  },
  {
   "cell_type": "code",
   "execution_count": 89,
   "id": "8a96212b",
   "metadata": {},
   "outputs": [],
   "source": [
    "h0 = x3[h]\n",
    "l0 = x3[l]"
   ]
  },
  {
   "cell_type": "code",
   "execution_count": 91,
   "id": "c3a6c4dc",
   "metadata": {},
   "outputs": [
    {
     "data": {
      "text/plain": [
       "(array([[1, 0, 0],\n",
       "        [5, 1, 0],\n",
       "        [-2, 3, 1]], dtype=object),\n",
       " array([[4, -2, 1],\n",
       "        [0, 3, 7],\n",
       "        [0, 0, -2]], dtype=object))"
      ]
     },
     "execution_count": 91,
     "metadata": {},
     "output_type": "execute_result"
    }
   ],
   "source": [
    "L = L=np.array([[1,0,0],\n",
    "            [a0,1,0],\n",
    "            [b0,c0,1]])\n",
    "\n",
    "U=np.array([[d0,e0,f0],\n",
    "          [0,g0,h0],\n",
    "          [0,0,l0]])\n",
    "L,U"
   ]
  },
  {
   "cell_type": "code",
   "execution_count": null,
   "id": "7f2815fa",
   "metadata": {},
   "outputs": [],
   "source": []
  }
 ],
 "metadata": {
  "kernelspec": {
   "display_name": "Python 3",
   "language": "python",
   "name": "python3"
  },
  "language_info": {
   "codemirror_mode": {
    "name": "ipython",
    "version": 3
   },
   "file_extension": ".py",
   "mimetype": "text/x-python",
   "name": "python",
   "nbconvert_exporter": "python",
   "pygments_lexer": "ipython3",
   "version": "3.8.8"
  }
 },
 "nbformat": 4,
 "nbformat_minor": 5
}
