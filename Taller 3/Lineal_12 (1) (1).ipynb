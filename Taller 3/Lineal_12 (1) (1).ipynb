{
  "cells": [
    {
      "cell_type": "code",
      "execution_count": 7,
      "id": "2f55a0fc",
      "metadata": {
        "id": "2f55a0fc"
      },
      "outputs": [],
      "source": [
        "import numpy as np\n",
        "import sympy as sym"
      ]
    },
    {
      "cell_type": "code",
      "execution_count": 59,
      "id": "7b1f19d0",
      "metadata": {
        "id": "7b1f19d0"
      },
      "outputs": [],
      "source": [
        "def Jac4(f1,f2,f3,v,h=0.01):\n",
        "    Jo4=np.zeros((3,3))\n",
        "    for i in range(3):\n",
        "      if i==0:\n",
        "        Jo4[i][0]=(-f1([v[0]+2*h,v[1],v[2]])+8*f1([v[0]+h,v[1],v[2]])-8*f1([v[0]-h,v[1],v[2]])+f1([v[0]-2*h,v[1],v[2]]))/(12*h)\n",
        "        Jo4[i][1]=(-f1([v[0],v[1]+2*h,v[2]])+8*f1([v[0],v[1]+h,v[2]])-8*f1([v[0],v[1]-h,v[2]])+f1([v[0],v[1]-2*h,v[2]]))/(12*h)\n",
        "        Jo4[i][2]=(-f1([v[0],v[1],v[2]+2*h])+8*f1([v[0],v[1],v[2]+h])-8*f1([v[0],v[1],v[2]-h])+f1([v[0],v[1],v[2]-2*h]))/(12*h)\n",
        "      elif i==1:\n",
        "        Jo4[i][0]=(-f2([v[0]+2*h,v[1],v[2]])+8*f2([v[0]+h,v[1],v[2]])-8*f2([v[0]-h,v[1],v[2]])+f2([v[0]-2*h,v[1],v[2]]))/(12*h)\n",
        "        Jo4[i][1]=(-f2([v[0],v[1]+2*h,v[2]])+8*f2([v[0],v[1]+h,v[2]])-8*f2([v[0],v[1]-h,v[2]])+f2([v[0],v[1]-2*h,v[2]]))/(12*h)\n",
        "        Jo4[i][2]=(-f2([v[0],v[1],v[2]+2*h])+8*f2([v[0],v[1],v[2]+h])-8*f2([v[0],v[1],v[2]-h])+f2([v[0],v[1],v[2]-2*h]))/(12*h)\n",
        "      else:\n",
        "        Jo4[i][0]=(-f3([v[0]+2*h,v[1],v[2]])+8*f3([v[0]+h,v[1],v[2]])-8*f3([v[0]-h,v[1],v[2]])+f3([v[0]-2*h,v[1],v[2]]))/(12*h)\n",
        "        Jo4[i][1]=(-f3([v[0],v[1]+2*h,v[2]])+8*f3([v[0],v[1]+h,v[2]])-8*f3([v[0],v[1]-h,v[2]])+f3([v[0],v[1]-2*h,v[2]]))/(12*h)\n",
        "        Jo4[i][2]=(-f3([v[0],v[1],v[2]+2*h])+8*f3([v[0],v[1],v[2]+h])-8*f3([v[0],v[1],v[2]-h])+f3([v[0],v[1],v[2]-2*h]))/(12*h)\n",
        "    return Jo4"
      ]
    },
    {
      "cell_type": "code",
      "execution_count": 60,
      "id": "f73ddbe7",
      "metadata": {
        "colab": {
          "base_uri": "https://localhost:8080/"
        },
        "id": "f73ddbe7",
        "outputId": "b5eb902c-eb87-453d-f4d3-c5de583b0179"
      },
      "outputs": [
        {
          "output_type": "execute_result",
          "data": {
            "text/plain": [
              "array([[ 6.        ,  0.24740396,  0.24740396],\n",
              "       [ 0.37377753,  9.        ,  0.32802064],\n",
              "       [-1.16820117, -1.16820117, 60.        ]])"
            ]
          },
          "metadata": {},
          "execution_count": 60
        }
      ],
      "source": [
        "f1=lambda v: 6*v[0]-2*np.cos(v[1]*v[2])-1\n",
        "f2=lambda v: 9*v[1]+((v[0])**2+np.sin(v[2])+1.06)**0.5+0.9\n",
        "f3=lambda v: 60*v[2]+3*np.exp(-v[0]*v[1])+10*np.pi-3\n",
        "Vector=[0.5,0.5,0.5]\n",
        "J4=Jac4(f1,f2,f3,Vector)\n",
        "J4"
      ]
    },
    {
      "cell_type": "code",
      "execution_count": 64,
      "metadata": {
        "id": "2QLjR7BExH_A"
      },
      "outputs": [],
      "source": [
        "def Jac2(f1,f2,f3,v,h=0.01):\n",
        "    Jo2=np.zeros((3,3))\n",
        "    for i in range(3):\n",
        "      if i==0:\n",
        "        Jo2[i][0]=(f1([v[0]+h,v[1],v[2]])-f1([v[0]-h,v[1],v[2]]))/(2*h)\n",
        "        Jo2[i][1]=(f1([v[0],v[1]+h,v[2]])-f1([v[0],v[1]-h,v[2]]))/(2*h)\n",
        "        Jo2[i][2]=(f1([v[0],v[1],v[2]+h])-f1([v[0],v[1],v[2]-h]))/(2*h)\n",
        "      elif i==1:\n",
        "        Jo2[i][0]=(f2([v[0]+h,v[1],v[2]])-f2([v[0]-h,v[1],v[2]]))/(2*h)\n",
        "        Jo2[i][1]=(f2([v[0],v[1]+h,v[2]])-f2([v[0],v[1]-h,v[2]]))/(2*h)\n",
        "        Jo2[i][2]=(f2([v[0],v[1],v[2]+h])-f2([v[0],v[1],v[2]-h]))/(2*h)\n",
        "      else:\n",
        "        Jo2[i][0]=(f3([v[0]+h,v[1],v[2]])-f3([v[0]-h,v[1],v[2]]))/(2*h)\n",
        "        Jo2[i][1]=(f3([v[0],v[1]+h,v[2]])-f3([v[0],v[1]-h,v[2]]))/(2*h)\n",
        "        Jo2[i][2]=(f3([v[0],v[1],v[2]+h])-f3([v[0],v[1],v[2]-h]))/(2*h)\n",
        "    return Jo2\n"
      ],
      "id": "2QLjR7BExH_A"
    },
    {
      "cell_type": "code",
      "source": [
        "f1=lambda v: 6*v[0]-2*np.cos(v[1]*v[2])-1\n",
        "f2=lambda v: 9*v[1]+((v[0])**2+np.sin(v[2])+1.06)**0.5+0.9\n",
        "f3=lambda v: 60*v[2]+3*np.exp(-v[0]*v[1])+10*np.pi-3\n",
        "Vector=[0.5,0.5,0.5]\n",
        "J2=Jac2(f1,f2,f3,Vector)\n",
        "J2"
      ],
      "metadata": {
        "colab": {
          "base_uri": "https://localhost:8080/"
        },
        "id": "zryuYU4h0wtP",
        "outputId": "3d383a1d-8cde-44b0-9e80-13b7b68f7502"
      },
      "id": "zryuYU4h0wtP",
      "execution_count": 65,
      "outputs": [
        {
          "output_type": "execute_result",
          "data": {
            "text/plain": [
              "array([[ 6.        ,  0.24740293,  0.24740293],\n",
              "       [ 0.37376854,  9.        ,  0.32801836],\n",
              "       [-1.16820604, -1.16820604, 60.        ]])"
            ]
          },
          "metadata": {},
          "execution_count": 65
        }
      ]
    },
    {
      "cell_type": "code",
      "source": [],
      "metadata": {
        "id": "Yc18-M3T00VE"
      },
      "id": "Yc18-M3T00VE",
      "execution_count": null,
      "outputs": []
    }
  ],
  "metadata": {
    "kernelspec": {
      "display_name": "Python 3",
      "language": "python",
      "name": "python3"
    },
    "language_info": {
      "codemirror_mode": {
        "name": "ipython",
        "version": 3
      },
      "file_extension": ".py",
      "mimetype": "text/x-python",
      "name": "python",
      "nbconvert_exporter": "python",
      "pygments_lexer": "ipython3",
      "version": "3.8.8"
    },
    "colab": {
      "provenance": []
    }
  },
  "nbformat": 4,
  "nbformat_minor": 5
}