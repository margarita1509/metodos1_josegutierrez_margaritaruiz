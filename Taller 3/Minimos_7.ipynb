{
 "cells": [
  {
   "cell_type": "code",
   "execution_count": 14,
   "id": "14c41039",
   "metadata": {},
   "outputs": [],
   "source": [
    "import urllib.request\n",
    "import numpy as np\n",
    "import matplotlib.pyplot as plt\n",
    "import sympy as sym\n",
    "from numpy import diff\n",
    "import math"
   ]
  },
  {
   "cell_type": "code",
   "execution_count": 3,
   "id": "2cdd9e02",
   "metadata": {},
   "outputs": [],
   "source": [
    "url = 'https://raw.githubusercontent.com/asegura4488/Database/main/MetodosComputacionalesReforma/Sigmoid.csv'"
   ]
  },
  {
   "cell_type": "code",
   "execution_count": 4,
   "id": "a183389d",
   "metadata": {},
   "outputs": [],
   "source": [
    "filename = 'Sigmoid.csv'"
   ]
  },
  {
   "cell_type": "code",
   "execution_count": 5,
   "id": "5e76afcc",
   "metadata": {},
   "outputs": [
    {
     "data": {
      "text/plain": [
       "('Sigmoid.csv', <http.client.HTTPMessage at 0x16d7b8b9ee0>)"
      ]
     },
     "execution_count": 5,
     "metadata": {},
     "output_type": "execute_result"
    }
   ],
   "source": [
    "urllib.request.urlretrieve(url, filename)"
   ]
  },
  {
   "cell_type": "code",
   "execution_count": 6,
   "id": "33463134",
   "metadata": {},
   "outputs": [
    {
     "data": {
      "text/plain": [
       "50"
      ]
     },
     "execution_count": 6,
     "metadata": {},
     "output_type": "execute_result"
    }
   ],
   "source": [
    "data = np.loadtxt(filename,dtype=str,skiprows=1)\n",
    "data1 = []\n",
    "X = []\n",
    "Y = []\n",
    "for i in range(len(data)):\n",
    "    lista = data[i].split(\",\")\n",
    "    lista1 = [ float(x) for x in lista ]\n",
    "    data1.append(lista1)\n",
    "    \n",
    "for i in data1:\n",
    "    X.append(i[0])\n",
    "    Y.append(i[1])\n",
    "x = np.array(X)\n",
    "y = np.array(Y)\n",
    "len(y)"
   ]
  },
  {
   "cell_type": "code",
   "execution_count": 7,
   "id": "62a61aab",
   "metadata": {},
   "outputs": [],
   "source": [
    "def M(x,theta):\n",
    "    a = theta[0]/(theta[1]+np.exp(-1*theta[2]*x))\n",
    "    return a"
   ]
  },
  {
   "cell_type": "code",
   "execution_count": 8,
   "id": "90637193",
   "metadata": {},
   "outputs": [
    {
     "data": {
      "text/plain": [
       "258.22739171024347"
      ]
     },
     "execution_count": 8,
     "metadata": {},
     "output_type": "execute_result"
    }
   ],
   "source": [
    "def Costo(theta):\n",
    "    b = 0\n",
    "    for i in range(len(x)):\n",
    "        b += (y[i]-M(x[i],theta))**2\n",
    "    return b\n",
    "Costo([1,2,3])"
   ]
  },
  {
   "cell_type": "code",
   "execution_count": 9,
   "id": "97caeef8",
   "metadata": {},
   "outputs": [
    {
     "data": {
      "text/plain": [
       "array([-110.01069727,  103.89842074,   -5.93182878])"
      ]
     },
     "execution_count": 9,
     "metadata": {},
     "output_type": "execute_result"
    }
   ],
   "source": [
    "def D_Parciales1(t,h = 0.01):\n",
    "    D = np.zeros(3)\n",
    "    \n",
    "    D[0] = (Costo([t[0]+h,t[1],t[2]]) - Costo([t[0]-h,t[1],t[2]]))/(2*h)\n",
    "    D[1] = (Costo([t[0],t[1]+h,t[2]]) - Costo([t[0],t[1]-h,t[2]]))/(2*h)\n",
    "    D[2] = (Costo([t[0],t[1],t[2]+h]) - Costo([t[0],t[1],t[2]-h]))/(2*h)\n",
    "    return D\n",
    "D_Parciales1([1,1,1])"
   ]
  },
  {
   "cell_type": "code",
   "execution_count": 10,
   "id": "b3474778",
   "metadata": {},
   "outputs": [
    {
     "name": "stdout",
     "output_type": "stream",
     "text": [
      "Por lo siguiente las derivadas parciales de la métrica se encuentran por la fórmula dada al comparar con la derivada común.\n",
      " -110.0106972728062 103.90111918798551 -5.9317654127667145\n"
     ]
    }
   ],
   "source": [
    "def D_Parciales2(k,t, h = 0.01):\n",
    "    sum1 = 0\n",
    "    t1 = t.copy()\n",
    "    t2 = t.copy()\n",
    "            \n",
    "    t1[k] = t1[k]+h\n",
    "    t2[k] = t2[k]-h\n",
    "    \n",
    "    for i in range(len(y)):\n",
    "        f1 = y[i]-M(x[i],t)\n",
    "        DP = (M(x[i],t1) - M(x[i],t2))/(2*h)\n",
    "        sum1+= f1*DP\n",
    "        \n",
    "    return (-2)*sum1\n",
    "print('Por lo siguiente las derivadas parciales de la métrica se encuentran por la fórmula dada al comparar con la derivada común.\\n',D_Parciales2(0,[1,1,1]),D_Parciales2(1,[1,1,1]),D_Parciales2(2,[1,1,1]))"
   ]
  },
  {
   "cell_type": "code",
   "execution_count": 23,
   "id": "90da5ef8",
   "metadata": {},
   "outputs": [
    {
     "name": "stdout",
     "output_type": "stream",
     "text": [
      "Descenso:\n",
      " [4.40296875 0.97576351 2.78679217]\n",
      "Costo:\n",
      " 0.10502529239651599\n"
     ]
    }
   ],
   "source": [
    "def Descenso1(t,gamma,itmax,ep): \n",
    "    e0 = 1\n",
    "    it_min = 0\n",
    "    for it in range(itmax):\n",
    "        if e0 > ep:\n",
    "            f1 = D_Parciales1(t)\n",
    "            t = t-gamma*f1\n",
    "    return t\n",
    "a = Descenso1([1,1,1],1e-3,10000,0.01)\n",
    "print('Descenso:\\n',a)\n",
    "print('Costo:\\n',Costo(a))"
   ]
  },
  {
   "cell_type": "code",
   "execution_count": 21,
   "id": "a06e79aa",
   "metadata": {},
   "outputs": [
    {
     "data": {
      "text/plain": [
       "<matplotlib.collections.PathCollection at 0x16d7bc58c70>"
      ]
     },
     "execution_count": 21,
     "metadata": {},
     "output_type": "execute_result"
    },
    {
     "data": {
      "image/png": "[encoded data removed]",
      "text/plain": [
       "<Figure size 432x288 with 1 Axes>"
      ]
     },
     "metadata": {
      "needs_background": "light"
     },
     "output_type": "display_data"
    }
   ],
   "source": [
    "x_ = np.linspace(min(x),max(x),500)\n",
    "\n",
    "plt.plot(x_,M(x_,a))\n",
    "plt.scatter(x,y,c='r')"
   ]
  },
  {
   "cell_type": "code",
   "execution_count": null,
   "id": "eed5ddf2",
   "metadata": {},
   "outputs": [],
   "source": []
  }
 ],
 "metadata": {
  "kernelspec": {
   "display_name": "Python 3",
   "language": "python",
   "name": "python3"
  },
  "language_info": {
   "codemirror_mode": {
    "name": "ipython",
    "version": 3
   },
   "file_extension": ".py",
   "mimetype": "text/x-python",
   "name": "python",
   "nbconvert_exporter": "python",
   "pygments_lexer": "ipython3",
   "version": "3.8.8"
  }
 },
 "nbformat": 4,
 "nbformat_minor": 5
}
