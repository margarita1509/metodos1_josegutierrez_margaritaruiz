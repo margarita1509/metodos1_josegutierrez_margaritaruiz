{
 "cells": [
  {
   "cell_type": "code",
   "execution_count": 19,
   "id": "e2c58886",
   "metadata": {},
   "outputs": [],
   "source": [
    "import numpy as np\n",
    "import matplotlib.pyplot as plt\n",
    "import sympy as sym\n",
    "from scipy import integrate\n",
    "from mpl_toolkits.mplot3d import axes3d"
   ]
  },
  {
   "cell_type": "code",
   "execution_count": 20,
   "id": "3fd8b2be",
   "metadata": {},
   "outputs": [
    {
     "data": {
      "text/plain": [
       "(array([0.41577456, 2.29428036, 6.28994508]),\n",
       " array([0.71109301, 0.27851773, 0.01038926]))"
      ]
     },
     "execution_count": 20,
     "metadata": {},
     "output_type": "execute_result"
    }
   ],
   "source": [
    "Roots, Weights = np.polynomial.laguerre.laggauss(3)\n",
    "Roots, Weights"
   ]
  },
  {
   "cell_type": "code",
   "execution_count": 37,
   "id": "68a7e9bd",
   "metadata": {},
   "outputs": [],
   "source": [
    "def Function(x):\n",
    "    y = (x**3)*(np.exp(x))/(np.exp(x)-1)\n",
    "    return y"
   ]
  },
  {
   "cell_type": "code",
   "execution_count": 53,
   "id": "78ad4360",
   "metadata": {},
   "outputs": [],
   "source": [
    "def GetIntegral(n,f,w,r):\n",
    "    z = 0\n",
    "    for i in range(n):\n",
    "        t = (0.5)*(2)*(r[i])\n",
    "        z+= w[i]*f(t)\n",
    "    return z"
   ]
  },
  {
   "cell_type": "code",
   "execution_count": 54,
   "id": "3d80d1fa",
   "metadata": {},
   "outputs": [
    {
     "data": {
      "text/plain": [
       "6.481130171540027"
      ]
     },
     "execution_count": 54,
     "metadata": {},
     "output_type": "execute_result"
    }
   ],
   "source": [
    "I = GetIntegral(3,Function,Weights,Roots)\n",
    "I"
   ]
  },
  {
   "cell_type": "code",
   "execution_count": 73,
   "id": "b31faf51",
   "metadata": {},
   "outputs": [
    {
     "data": {
      "text/plain": [
       "array([8.02119327e-02, 1.28092307e-02, 5.96237536e-04, 3.73963524e-04,\n",
       "       2.01205439e-06, 2.04919576e-05, 3.73691412e-06, 8.01807865e-07,\n",
       "       5.65385275e-07])"
      ]
     },
     "execution_count": 73,
     "metadata": {},
     "output_type": "execute_result"
    }
   ],
   "source": [
    "RelativeError = np.zeros(9)\n",
    "I_Teorico = (np.pi**4)/15\n",
    "\n",
    "for i in range(9):\n",
    "    R,W = np.polynomial.laguerre.laggauss(i+2)\n",
    "    I_Real = GetIntegral(i+2,Function,W,R)\n",
    "    RelativeError[i] = abs(I_Real-I_Teorico)\n",
    "    \n",
    "RelativeError"
   ]
  },
  {
   "cell_type": "code",
   "execution_count": 74,
   "id": "0d7a4532",
   "metadata": {},
   "outputs": [
    {
     "data": {
      "text/plain": [
       "[<matplotlib.lines.Line2D at 0x1ff66f70160>]"
      ]
     },
     "execution_count": 74,
     "metadata": {},
     "output_type": "execute_result"
    },
    {
     "data": {
      "image/png": "[encoded data removed]",
      "text/plain": [
       "<Figure size 432x288 with 1 Axes>"
      ]
     },
     "metadata": {
      "needs_background": "light"
     },
     "output_type": "display_data"
    }
   ],
   "source": [
    "n = np.linspace(2,10,9)\n",
    "plt.plot(n,RelativeError)"
   ]
  },
  {
   "cell_type": "code",
   "execution_count": null,
   "id": "56e86504",
   "metadata": {},
   "outputs": [],
   "source": []
  }
 ],
 "metadata": {
  "kernelspec": {
   "display_name": "Python 3",
   "language": "python",
   "name": "python3"
  },
  "language_info": {
   "codemirror_mode": {
    "name": "ipython",
    "version": 3
   },
   "file_extension": ".py",
   "mimetype": "text/x-python",
   "name": "python",
   "nbconvert_exporter": "python",
   "pygments_lexer": "ipython3",
   "version": "3.8.8"
  }
 },
 "nbformat": 4,
 "nbformat_minor": 5
}
