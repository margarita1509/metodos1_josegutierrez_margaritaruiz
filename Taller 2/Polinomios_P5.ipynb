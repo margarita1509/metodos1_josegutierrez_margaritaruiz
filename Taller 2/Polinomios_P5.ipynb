{
 "cells": [
  {
   "cell_type": "code",
   "execution_count": 200,
   "id": "b48a18fa",
   "metadata": {},
   "outputs": [],
   "source": [
    "import numpy as np\n",
    "import matplotlib.pyplot as plt\n",
    "import sympy as sym"
   ]
  },
  {
   "cell_type": "code",
   "execution_count": 213,
   "id": "423aa04a",
   "metadata": {},
   "outputs": [],
   "source": [
    "def Function(n):\n",
    "    x,f = sym.symbols('x f')\n",
    "    f = sym.symbols('f')\n",
    "    \n",
    "    f = sym.exp(-x)*x**n\n",
    "    \n",
    "    Deriv = sym.diff(f,x,n)\n",
    "    a = (sym.exp(x)/np.math.factorial(n))*Deriv\n",
    "    return sym.lambdify([x],a,'numpy')"
   ]
  },
  {
   "cell_type": "code",
   "execution_count": 214,
   "id": "c18715e4",
   "metadata": {},
   "outputs": [
    {
     "data": {
      "text/plain": [
       "<function _lambdifygenerated(x)>"
      ]
     },
     "execution_count": 214,
     "metadata": {},
     "output_type": "execute_result"
    }
   ],
   "source": [
    "Function(2)"
   ]
  },
  {
   "cell_type": "code",
   "execution_count": 217,
   "id": "1b657dce",
   "metadata": {},
   "outputs": [
    {
     "data": {
      "text/plain": [
       "-0.9999999999177334"
      ]
     },
     "execution_count": 217,
     "metadata": {},
     "output_type": "execute_result"
    }
   ],
   "source": [
    "#def Derivative(f,a):\n",
    " #   d = sym.diff(f,x)\n",
    "  #  return d.evalf(subs={x: a})\n",
    "\n",
    "\n",
    "def Derivative(f,x,h=1e-6):\n",
    "    return (f(x+h)-f(x-h))/(2*h)\n",
    "Derivative(Function(2),1)"
   ]
  },
  {
   "cell_type": "markdown",
   "id": "70fe4e50",
   "metadata": {},
   "source": [
    "### "
   ]
  },
  {
   "cell_type": "code",
   "execution_count": 218,
   "id": "7af0cc8c",
   "metadata": {},
   "outputs": [],
   "source": [
    "def GetNewtonRaphson(f,df,xn,itmax = 100, precision=1e-5):\n",
    "    \n",
    "    error = 1\n",
    "    it = 0\n",
    "    \n",
    "    while error > precision and it <= itmax:\n",
    "        \n",
    "        try:\n",
    "            \n",
    "            xn1 = xn - f(xn)/df(f,xn)\n",
    "            \n",
    "            error = np.abs(f(xn)/df(f,xn))\n",
    "            \n",
    "            #print(error)\n",
    "            \n",
    "        except ZeroDivisionError:\n",
    "            \n",
    "            print('Division por cero')\n",
    "            \n",
    "        it += 1\n",
    "        xn = xn1\n",
    "    \n",
    "    if it == itmax:\n",
    "        False\n",
    "    else:\n",
    "        return xn\n",
    "    "
   ]
  },
  {
   "cell_type": "code",
   "execution_count": 228,
   "id": "01711267",
   "metadata": {},
   "outputs": [],
   "source": [
    "def GetAllRoots(x,f,tolerancia=8):\n",
    "    \n",
    "    Roots = np.array([])\n",
    "    \n",
    "    for i in x:\n",
    "        \n",
    "        root = GetNewtonRaphson(f,Derivative,i)\n",
    "        if root != False:\n",
    "            \n",
    "            croot = np.round(float(root), tolerancia)\n",
    "            \n",
    "            if croot not in Roots:\n",
    "                Roots = np.append(Roots,croot)\n",
    "                \n",
    "    Roots.sort()\n",
    "        \n",
    "    return Roots"
   ]
  },
  {
   "cell_type": "code",
   "execution_count": 229,
   "id": "210eec81",
   "metadata": {},
   "outputs": [
    {
     "data": {
      "text/plain": [
       "array([0.41577456])"
      ]
     },
     "execution_count": 229,
     "metadata": {},
     "output_type": "execute_result"
    }
   ],
   "source": [
    "x_i = np.linspace(-1,1,100)\n",
    "GetAllRoots(x_i,Function(3))\n",
    "#Para obtener raíces de polinomio n, insertar n-1"
   ]
  },
  {
   "cell_type": "code",
   "execution_count": 230,
   "id": "f4692362",
   "metadata": {},
   "outputs": [],
   "source": [
    "def PolyRoots(n):\n",
    "    return GetAllRoots(x_i,Function(n))"
   ]
  },
  {
   "cell_type": "code",
   "execution_count": null,
   "id": "0e1b6669",
   "metadata": {},
   "outputs": [],
   "source": []
  }
 ],
 "metadata": {
  "kernelspec": {
   "display_name": "Python 3",
   "language": "python",
   "name": "python3"
  },
  "language_info": {
   "codemirror_mode": {
    "name": "ipython",
    "version": 3
   },
   "file_extension": ".py",
   "mimetype": "text/x-python",
   "name": "python",
   "nbconvert_exporter": "python",
   "pygments_lexer": "ipython3",
   "version": "3.8.8"
  }
 },
 "nbformat": 4,
 "nbformat_minor": 5
}
