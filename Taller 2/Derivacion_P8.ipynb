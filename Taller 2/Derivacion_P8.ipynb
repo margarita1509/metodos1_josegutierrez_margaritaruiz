{
 "cells": [
  {
   "cell_type": "code",
   "execution_count": 9,
   "id": "cc920a8f",
   "metadata": {},
   "outputs": [],
   "source": [
    "import numpy as np\n",
    "import matplotlib.pyplot as plt\n",
    "from matplotlib import rc"
   ]
  },
  {
   "cell_type": "code",
   "execution_count": 10,
   "id": "7615460b",
   "metadata": {},
   "outputs": [],
   "source": [
    "def Function(x):\n",
    "    return np.sqrt(np.tan(x))"
   ]
  },
  {
   "cell_type": "code",
   "execution_count": 11,
   "id": "d54a3640",
   "metadata": {},
   "outputs": [],
   "source": [
    "def ProgressiveDerivative(f,x,h):\n",
    "    \n",
    "    d = 0.\n",
    "    \n",
    "    if h != 0:\n",
    "        d = (-3*f(x)+4*f(x+h)-f(x+2*h))/(2*h)\n",
    "        \n",
    "    return d"
   ]
  },
  {
   "cell_type": "code",
   "execution_count": 12,
   "id": "2ec31128",
   "metadata": {},
   "outputs": [
    {
     "data": {
      "text/plain": [
       "1.3719717695489408"
      ]
     },
     "execution_count": 12,
     "metadata": {},
     "output_type": "execute_result"
    }
   ],
   "source": [
    "ProgressiveDerivative(Function,1,0.01)"
   ]
  },
  {
   "cell_type": "code",
   "execution_count": 13,
   "id": "9c140459",
   "metadata": {},
   "outputs": [],
   "source": [
    "def CentralDerivative(f,x,h):\n",
    "    d = 0.\n",
    "    \n",
    "    if h != 0:\n",
    "        d = (f(x+h) - f(x-h))/(2*h)\n",
    "        \n",
    "    return d"
   ]
  },
  {
   "cell_type": "code",
   "execution_count": 14,
   "id": "97a6e0fa",
   "metadata": {},
   "outputs": [
    {
     "data": {
      "text/plain": [
       "1.372672412198428"
      ]
     },
     "execution_count": 14,
     "metadata": {},
     "output_type": "execute_result"
    }
   ],
   "source": [
    "CentralDerivative(Function,1,0.01)"
   ]
  },
  {
   "cell_type": "code",
   "execution_count": 34,
   "id": "9816654f",
   "metadata": {},
   "outputs": [],
   "source": [
    "def A_Derivative(x):\n",
    "    return ((1/np.cos(x))**2)/(2*(np.tan(x)**(1/2)))"
   ]
  },
  {
   "cell_type": "code",
   "execution_count": 35,
   "id": "ebb97990",
   "metadata": {},
   "outputs": [
    {
     "name": "stderr",
     "output_type": "stream",
     "text": [
      "<ipython-input-10-407f292dd9d2>:2: RuntimeWarning: invalid value encountered in sqrt\n",
      "  return np.sqrt(np.tan(x))\n",
      "<ipython-input-34-ee374163ce89>:2: RuntimeWarning: divide by zero encountered in true_divide\n",
      "  return ((1/np.cos(x))**2)/(2*(np.tan(x)**(1/2)))\n"
     ]
    }
   ],
   "source": [
    "x = np.linspace(0,np.pi/3,50)\n",
    "PD = ProgressiveDerivative(Function,x,0.01)\n",
    "CD = CentralDerivative(Function,x,0.01)\n",
    "AD = A_Derivative(x)"
   ]
  },
  {
   "cell_type": "code",
   "execution_count": 37,
   "id": "30f54396",
   "metadata": {},
   "outputs": [
    {
     "data": {
      "text/plain": [
       "<matplotlib.legend.Legend at 0x1cd5411adf0>"
      ]
     },
     "execution_count": 37,
     "metadata": {},
     "output_type": "execute_result"
    },
    {
     "data": {
      "image/png": "[encoded data removed]",
      "text/plain": [
       "<Figure size 432x288 with 1 Axes>"
      ]
     },
     "metadata": {
      "needs_background": "light"
     },
     "output_type": "display_data"
    }
   ],
   "source": [
    "plt.scatter(x,PD,label='Progressive Derivative')\n",
    "plt.scatter(x,CD,label='Central Derivative')\n",
    "plt.scatter(x,AD,label='Analytical Derivative')\n",
    "plt.yscale('log')\n",
    "plt.legend()"
   ]
  },
  {
   "cell_type": "code",
   "execution_count": 38,
   "id": "15eb0f9a",
   "metadata": {},
   "outputs": [],
   "source": [
    "def Error(d_real,d_teorica):\n",
    "    errores = np.zeros(len(d_real))\n",
    "    for i in range(len(d_real)):\n",
    "        e = np.abs(d_teorica[i]-d_real[i])\n",
    "        errores[i] = e\n",
    "    return errores"
   ]
  },
  {
   "cell_type": "code",
   "execution_count": 40,
   "id": "2c3a425c",
   "metadata": {},
   "outputs": [
    {
     "data": {
      "text/plain": [
       "<matplotlib.legend.Legend at 0x1cd54025220>"
      ]
     },
     "execution_count": 40,
     "metadata": {},
     "output_type": "execute_result"
    },
    {
     "data": {
      "image/png": "[encoded data removed]",
      "text/plain": [
       "<Figure size 432x288 with 1 Axes>"
      ]
     },
     "metadata": {
      "needs_background": "light"
     },
     "output_type": "display_data"
    }
   ],
   "source": [
    "E_Central = Error(AD,CD)\n",
    "E_Progressive = Error(AD,PD)\n",
    "\n",
    "plt.scatter(x,E_Central,label='Central Derivative')\n",
    "plt.scatter(x,E_Progressive,label='Analytical Derivative')\n",
    "plt.yscale('log')\n",
    "plt.legend()"
   ]
  },
  {
   "cell_type": "code",
   "execution_count": null,
   "id": "07243ab1",
   "metadata": {},
   "outputs": [],
   "source": []
  }
 ],
 "metadata": {
  "kernelspec": {
   "display_name": "Python 3",
   "language": "python",
   "name": "python3"
  },
  "language_info": {
   "codemirror_mode": {
    "name": "ipython",
    "version": 3
   },
   "file_extension": ".py",
   "mimetype": "text/x-python",
   "name": "python",
   "nbconvert_exporter": "python",
   "pygments_lexer": "ipython3",
   "version": "3.8.8"
  }
 },
 "nbformat": 4,
 "nbformat_minor": 5
}
