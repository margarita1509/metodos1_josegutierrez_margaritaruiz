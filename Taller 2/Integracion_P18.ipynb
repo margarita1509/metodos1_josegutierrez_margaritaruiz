{
 "cells": [
  {
   "cell_type": "code",
   "execution_count": 24,
   "id": "f3e157f4",
   "metadata": {},
   "outputs": [],
   "source": [
    "import numpy as np\n",
    "import sympy as sym"
   ]
  },
  {
   "cell_type": "code",
   "execution_count": 32,
   "id": "1720b923",
   "metadata": {},
   "outputs": [
    {
     "data": {
      "text/plain": [
       "<function _lambdifygenerated(x)>"
      ]
     },
     "execution_count": 32,
     "metadata": {},
     "output_type": "execute_result"
    }
   ],
   "source": [
    "def GetHermite(n):\n",
    "    x = sym.symbols('x')\n",
    "    f = sym.symbols('f')\n",
    "    \n",
    "    f = (np.e**(-x**2))\n",
    "    poly = ((-1)**n)*sym.diff(f,x,n)\n",
    "    p = sym.lambdify([x],poly,'numpy')\n",
    "    return p\n",
    "GetHermite(2)"
   ]
  },
  {
   "cell_type": "code",
   "execution_count": 40,
   "id": "b3fe7b6a",
   "metadata": {},
   "outputs": [],
   "source": [
    "def Derivative(f,x,h=1e-6):\n",
    "    return (f(x+h)-f(x-h))/(2*h)"
   ]
  },
  {
   "cell_type": "code",
   "execution_count": 41,
   "id": "81b224fd",
   "metadata": {},
   "outputs": [],
   "source": [
    "def GetNewtonRaphson(f,df,xn,itmax = 100, precision=1e-5):\n",
    "    \n",
    "    error = 1\n",
    "    it = 0\n",
    "    \n",
    "    while error > precision and it <= itmax:\n",
    "        \n",
    "        try:\n",
    "            \n",
    "            xn1 = xn - f(xn)/df(f,xn)\n",
    "            \n",
    "            error = np.abs(f(xn)/df(f,xn))\n",
    "            \n",
    "            #print(error)\n",
    "            \n",
    "        except ZeroDivisionError:\n",
    "            \n",
    "            print('Division por cero')\n",
    "            \n",
    "        it += 1\n",
    "        xn = xn1\n",
    "    \n",
    "    if it == itmax:\n",
    "        False\n",
    "    else:\n",
    "        return xn"
   ]
  },
  {
   "cell_type": "code",
   "execution_count": 42,
   "id": "5bc06117",
   "metadata": {},
   "outputs": [],
   "source": [
    "def GetAllRoots(x,f,tolerancia=8):\n",
    "    \n",
    "    Roots = np.array([])\n",
    "    \n",
    "    for i in x:\n",
    "        \n",
    "        root = GetNewtonRaphson(f,Derivative,i)\n",
    "        if root != False:\n",
    "            \n",
    "            croot = np.round(float(root), tolerancia)\n",
    "            \n",
    "            if croot not in Roots:\n",
    "                Roots = np.append(Roots,croot)\n",
    "                \n",
    "    Roots.sort()\n",
    "        \n",
    "    return Roots"
   ]
  },
  {
   "cell_type": "code",
   "execution_count": 48,
   "id": "f0e3ae23",
   "metadata": {},
   "outputs": [
    {
     "name": "stderr",
     "output_type": "stream",
     "text": [
      "<ipython-input-41-3f61c5f35ac8>:10: RuntimeWarning: divide by zero encountered in double_scalars\n",
      "  xn1 = xn - f(xn)/df(f,xn)\n",
      "<ipython-input-41-3f61c5f35ac8>:12: RuntimeWarning: divide by zero encountered in double_scalars\n",
      "  error = np.abs(f(xn)/df(f,xn))\n",
      "<lambdifygenerated-99>:2: RuntimeWarning: invalid value encountered in double_scalars\n",
      "  return (2.71828182845905**(-x**2)*(4.0*x**2 - 2.0))\n"
     ]
    },
    {
     "data": {
      "text/plain": [
       "array([2.80574396e+91, 2.40901455e+00, 2.40901455e+00, 2.80574396e+91,\n",
       "                  nan])"
      ]
     },
     "execution_count": 48,
     "metadata": {},
     "output_type": "execute_result"
    }
   ],
   "source": [
    "xi = np.linspace(-5.6,5.6,1000)\n",
    "def PolyRoots(n):\n",
    "    return GetAllRoots(x_i,GetHermite(n))\n",
    "\n",
    "def Weights(n):\n",
    "    f = GetHermite(n-1)\n",
    "    pesos = ((2**(n-1))*np.math.factorial(n)*np.sqrt(np.pi))/((n**2)*(f(PolyRoots(n))**2))\n",
    "    return pesos\n",
    "Weights(2)"
   ]
  },
  {
   "cell_type": "code",
   "execution_count": null,
   "id": "cf9d3d02",
   "metadata": {},
   "outputs": [],
   "source": []
  }
 ],
 "metadata": {
  "kernelspec": {
   "display_name": "Python 3",
   "language": "python",
   "name": "python3"
  },
  "language_info": {
   "codemirror_mode": {
    "name": "ipython",
    "version": 3
   },
   "file_extension": ".py",
   "mimetype": "text/x-python",
   "name": "python",
   "nbconvert_exporter": "python",
   "pygments_lexer": "ipython3",
   "version": "3.8.8"
  }
 },
 "nbformat": 4,
 "nbformat_minor": 5
}
