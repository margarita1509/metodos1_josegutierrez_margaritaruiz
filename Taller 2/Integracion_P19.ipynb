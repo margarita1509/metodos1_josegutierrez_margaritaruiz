{
 "cells": [
  {
   "cell_type": "code",
   "execution_count": 55,
   "id": "630bfd5d",
   "metadata": {},
   "outputs": [],
   "source": [
    "import numpy as np\n",
    "import matplotlib.pyplot as plt\n",
    "import sympy as sym\n",
    "from scipy import integrate"
   ]
  },
  {
   "cell_type": "code",
   "execution_count": 56,
   "id": "d17d3d2b",
   "metadata": {},
   "outputs": [
    {
     "data": {
      "text/plain": [
       "array([-0.99757175, -0.98722782, -0.96870826, -0.9421624 , -0.90780968,\n",
       "       -0.86593464, -0.81688423, -0.76106488, -0.69893911, -0.63102173,\n",
       "       -0.5578755 , -0.48010655, -0.39835928, -0.31331108, -0.22566669,\n",
       "       -0.13615236, -0.04550982,  0.04550982,  0.13615236,  0.22566669,\n",
       "        0.31331108,  0.39835928,  0.48010655,  0.5578755 ,  0.63102173,\n",
       "        0.69893911,  0.76106488,  0.81688423,  0.86593464,  0.90780968,\n",
       "        0.9421624 ,  0.96870826,  0.98722782,  0.99757175])"
      ]
     },
     "execution_count": 56,
     "metadata": {},
     "output_type": "execute_result"
    }
   ],
   "source": [
    "a = -1\n",
    "b = 1\n",
    "Roots, Weights = np.polynomial.legendre.leggauss(34) \n",
    "Roots"
   ]
  },
  {
   "cell_type": "code",
   "execution_count": 59,
   "id": "8babb865",
   "metadata": {},
   "outputs": [
    {
     "data": {
      "text/plain": [
       "12.127512751275129"
      ]
     },
     "execution_count": 59,
     "metadata": {},
     "output_type": "execute_result"
    }
   ],
   "source": [
    "T = np.linspace(1,20,10000)\n",
    "I = np.zeros(10000)\n",
    "t1 = 0.5*( (b-a)*Roots + a + b )\n",
    "DT = (T[0]-T[1])*300*1.38*10**(-23)\n",
    "Critical_T = 0\n",
    "\n",
    "for i in range(1,10000):\n",
    "    Function = lambda x:np.tanh(300*np.sqrt(x**2+(DT**2))/(2*T[i]))/(np.sqrt(x**2+(DT**2)))\n",
    "    Integral1 = np.sum(Weights*Function(t1))/2\n",
    "    I[i] = Integral1\n",
    "    \n",
    "    if np.abs(Integral1-(1/0.3)) < 1e-4:\n",
    "        Critical_T = T[i]\n",
    "        \n",
    "Critical_T"
   ]
  },
  {
   "cell_type": "code",
   "execution_count": null,
   "id": "dd5ddfe4",
   "metadata": {},
   "outputs": [],
   "source": []
  }
 ],
 "metadata": {
  "kernelspec": {
   "display_name": "Python 3",
   "language": "python",
   "name": "python3"
  },
  "language_info": {
   "codemirror_mode": {
    "name": "ipython",
    "version": 3
   },
   "file_extension": ".py",
   "mimetype": "text/x-python",
   "name": "python",
   "nbconvert_exporter": "python",
   "pygments_lexer": "ipython3",
   "version": "3.8.8"
  }
 },
 "nbformat": 4,
 "nbformat_minor": 5
}
