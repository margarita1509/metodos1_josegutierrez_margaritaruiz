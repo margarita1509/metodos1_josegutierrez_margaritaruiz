{
 "cells": [
  {
   "cell_type": "code",
   "execution_count": 12,
   "id": "24ec9d51",
   "metadata": {},
   "outputs": [],
   "source": [
    "import numpy as np\n",
    "import sympy as sym"
   ]
  },
  {
   "cell_type": "code",
   "execution_count": 17,
   "id": "97fba227",
   "metadata": {},
   "outputs": [],
   "source": [
    "Coeff = np.array([3,5,1])\n",
    "B = 5\n",
    "Comb = np.array([[1,0,-1/2],[0,1,0],[0,0,3/2]])\n",
    "ABC = np.linalg.solve(Comb,Coeff)\n"
   ]
  },
  {
   "cell_type": "code",
   "execution_count": 29,
   "id": "220c80eb",
   "metadata": {},
   "outputs": [
    {
     "data": {
      "text/latex": [
       "$\\displaystyle 1.0 x^{2} + 5.0 x + 3.0$"
      ],
      "text/plain": [
       "1.0*x**2 + 5.0*x + 3.0"
      ]
     },
     "execution_count": 29,
     "metadata": {},
     "output_type": "execute_result"
    }
   ],
   "source": [
    "x = sym.symbols('x')\n",
    "Poly = lambda x: ABC[0] + ABC[1]*x + ABC[2]*(1/2)*((3*x**2)-1)\n",
    "Poly(x)\n",
    "#Sale diferente porque simplifica al multiplicar por los coeficientes"
   ]
  },
  {
   "cell_type": "code",
   "execution_count": null,
   "id": "622e149d",
   "metadata": {},
   "outputs": [],
   "source": []
  }
 ],
 "metadata": {
  "kernelspec": {
   "display_name": "Python 3",
   "language": "python",
   "name": "python3"
  },
  "language_info": {
   "codemirror_mode": {
    "name": "ipython",
    "version": 3
   },
   "file_extension": ".py",
   "mimetype": "text/x-python",
   "name": "python",
   "nbconvert_exporter": "python",
   "pygments_lexer": "ipython3",
   "version": "3.8.8"
  }
 },
 "nbformat": 4,
 "nbformat_minor": 5
}
