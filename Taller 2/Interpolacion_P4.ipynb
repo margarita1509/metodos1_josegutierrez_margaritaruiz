{
 "cells": [
  {
   "cell_type": "code",
   "execution_count": 53,
   "id": "aaea8bba",
   "metadata": {},
   "outputs": [],
   "source": [
    "import urllib.request\n",
    "import numpy as np\n",
    "import matplotlib.pyplot as plt\n",
    "import sympy as sym\n",
    "from numpy import diff"
   ]
  },
  {
   "cell_type": "code",
   "execution_count": 54,
   "id": "25fdeb94",
   "metadata": {},
   "outputs": [],
   "source": [
    "url = 'https://raw.githubusercontent.com/asegura4488/Database/main/MetodosComputacionalesReforma/Parabolico.csv'"
   ]
  },
  {
   "cell_type": "code",
   "execution_count": 55,
   "id": "800f9fab",
   "metadata": {},
   "outputs": [],
   "source": [
    "filename = 'DatosParabolico.csv'"
   ]
  },
  {
   "cell_type": "code",
   "execution_count": 56,
   "id": "d0822d00",
   "metadata": {},
   "outputs": [
    {
     "data": {
      "text/plain": [
       "('DatosParabolico.csv', <http.client.HTTPMessage at 0x1b3b2084550>)"
      ]
     },
     "execution_count": 56,
     "metadata": {},
     "output_type": "execute_result"
    }
   ],
   "source": [
    "urllib.request.urlretrieve(url, filename)"
   ]
  },
  {
   "cell_type": "code",
   "execution_count": 57,
   "id": "4b5c0a68",
   "metadata": {},
   "outputs": [
    {
     "data": {
      "text/plain": [
       "([1.4, 3.5, 5.6], [0.4007954931819738, 0.594128102489774, 0.29802795523938164])"
      ]
     },
     "execution_count": 57,
     "metadata": {},
     "output_type": "execute_result"
    }
   ],
   "source": [
    "data = np.loadtxt(filename,dtype=str,skiprows=1)\n",
    "data1 = []\n",
    "X = []\n",
    "Y = []\n",
    "for i in range(len(data)):\n",
    "    lista = data[i].split(\",\")\n",
    "    lista1 = [ float(x) for x in lista ]\n",
    "    data1.append(lista1)\n",
    "    \n",
    "for i in data1:\n",
    "    X.append(i[0])\n",
    "    Y.append(i[1])\n",
    "X,Y"
   ]
  },
  {
   "cell_type": "code",
   "execution_count": 39,
   "id": "96a16c02",
   "metadata": {},
   "outputs": [],
   "source": [
    "def Lagrange(x,xi,j): \n",
    "    prod = 1.0\n",
    "    n = len(xi)\n",
    "    \n",
    "    for i in range(n):\n",
    "        if i != j:\n",
    "            prod *= (x - xi[i])/(xi[j]-xi[i])\n",
    "            \n",
    "    return prod\n",
    "\n",
    "def Interpolate(x,xi,yi):\n",
    "    \n",
    "    Sum = 0.\n",
    "    n = len(xi)\n",
    "    \n",
    "    for j in range(n):\n",
    "        Sum += yi[j]*Lagrange(x,xi,j)\n",
    "        \n",
    "    return Sum"
   ]
  },
  {
   "cell_type": "code",
   "execution_count": 40,
   "id": "6e02a3e6",
   "metadata": {},
   "outputs": [
    {
     "data": {
      "text/plain": [
       "[<matplotlib.lines.Line2D at 0x1b3b1c804c0>]"
      ]
     },
     "execution_count": 40,
     "metadata": {},
     "output_type": "execute_result"
    },
    {
     "data": {
      "image/png": "[encoded data removed]",
      "text/plain": [
       "<Figure size 432x288 with 1 Axes>"
      ]
     },
     "metadata": {
      "needs_background": "light"
     },
     "output_type": "display_data"
    }
   ],
   "source": [
    "x = np.linspace(X[0]-1,X[-1]+1,100)\n",
    "y = Interpolate(x,X,Y)\n",
    "plt.plot(x,y)"
   ]
  },
  {
   "cell_type": "code",
   "execution_count": 94,
   "id": "f17ed7f9",
   "metadata": {},
   "outputs": [
    {
     "data": {
      "text/latex": [
       "$\\displaystyle - 0.0554912422401579 x^{2} + 0.363970234266202 x$"
      ],
      "text/plain": [
       "-0.0554912422401579*x**2 + 0.363970234266202*x"
      ]
     },
     "execution_count": 94,
     "metadata": {},
     "output_type": "execute_result"
    }
   ],
   "source": [
    "x = sym.symbols('x')\n",
    "f = Interpolate(x,X,Y)\n",
    "f = sym.simplify(f)\n",
    "f = sym.expand(f)\n",
    "f"
   ]
  },
  {
   "cell_type": "code",
   "execution_count": 95,
   "id": "8dca9f1c",
   "metadata": {},
   "outputs": [],
   "source": [
    "def Velocity(f,a):\n",
    "    v = sym.diff(f,x)\n",
    "    return v.evalf(subs={x: a})"
   ]
  },
  {
   "cell_type": "code",
   "execution_count": 96,
   "id": "ef1d304a",
   "metadata": {},
   "outputs": [
    {
     "data": {
      "text/latex": [
       "$\\displaystyle 0.363970234266202$"
      ],
      "text/plain": [
       "0.363970234266202"
      ]
     },
     "execution_count": 96,
     "metadata": {},
     "output_type": "execute_result"
    }
   ],
   "source": [
    "Velocity(f,0)"
   ]
  },
  {
   "cell_type": "code",
   "execution_count": 111,
   "id": "6510bb02",
   "metadata": {},
   "outputs": [
    {
     "data": {
      "text/latex": [
       "$\\displaystyle 0.349065850398866$"
      ],
      "text/plain": [
       "0.349065850398866"
      ]
     },
     "execution_count": 111,
     "metadata": {},
     "output_type": "execute_result"
    }
   ],
   "source": [
    "theta = sym.atan(f.coeff(x))\n",
    "#theta*=180/np.pi\n",
    "theta"
   ]
  },
  {
   "cell_type": "code",
   "execution_count": 112,
   "id": "03045170",
   "metadata": {},
   "outputs": [
    {
     "data": {
      "text/latex": [
       "$\\displaystyle 9.97737736891286$"
      ],
      "text/plain": [
       "9.97737736891286"
      ]
     },
     "execution_count": 112,
     "metadata": {},
     "output_type": "execute_result"
    }
   ],
   "source": [
    "v = np.sqrt(2*9.8*Y[1])/sym.sin(theta)\n",
    "v"
   ]
  },
  {
   "cell_type": "code",
   "execution_count": null,
   "id": "3c4a2a8e",
   "metadata": {},
   "outputs": [],
   "source": []
  }
 ],
 "metadata": {
  "kernelspec": {
   "display_name": "Python 3",
   "language": "python",
   "name": "python3"
  },
  "language_info": {
   "codemirror_mode": {
    "name": "ipython",
    "version": 3
   },
   "file_extension": ".py",
   "mimetype": "text/x-python",
   "name": "python",
   "nbconvert_exporter": "python",
   "pygments_lexer": "ipython3",
   "version": "3.8.8"
  }
 },
 "nbformat": 4,
 "nbformat_minor": 5
}
