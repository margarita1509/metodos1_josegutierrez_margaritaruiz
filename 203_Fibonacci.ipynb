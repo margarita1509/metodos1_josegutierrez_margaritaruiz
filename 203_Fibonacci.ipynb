{
 "cells": [
  {
   "cell_type": "code",
   "execution_count": 25,
   "id": "e40a89f0",
   "metadata": {},
   "outputs": [],
   "source": [
    "import matplotlib.pyplot as plt\n",
    "import numpy as np"
   ]
  },
  {
   "cell_type": "code",
   "execution_count": 26,
   "id": "c553e56e",
   "metadata": {},
   "outputs": [],
   "source": [
    "def fibi_n(terminos):\n",
    "    lista_r = [0,1]\n",
    "    for i in range(2,terminos+2):\n",
    "        #lista_r.append(0)\n",
    "        a=lista_r[i-1]+lista_r[i-2]\n",
    "        lista_r.append(a)\n",
    "    \n",
    "    return lista_r"
   ]
  },
  {
   "cell_type": "code",
   "execution_count": 27,
   "id": "8b3e1b72",
   "metadata": {},
   "outputs": [
    {
     "data": {
      "text/plain": [
       "[<matplotlib.lines.Line2D at 0x1c4f8ae7a00>]"
      ]
     },
     "execution_count": 27,
     "metadata": {},
     "output_type": "execute_result"
    },
    {
     "data": {
      "image/png": "[encoded data removed]",
      "text/plain": [
       "<Figure size 432x288 with 1 Axes>"
      ]
     },
     "metadata": {
      "needs_background": "light"
     },
     "output_type": "display_data"
    }
   ],
   "source": [
    "lista_g = []\n",
    "for i in range(22):\n",
    "    lista_g.append(i)\n",
    "plt.plot(lista_g, fibi_n(20))"
   ]
  },
  {
   "cell_type": "code",
   "execution_count": 28,
   "id": "7436534a",
   "metadata": {},
   "outputs": [],
   "source": [
    "def fibi_i(index):\n",
    "    lista = fibi_n(index+1)\n",
    "    num = lista[index]\n",
    "     \n",
    "    return num"
   ]
  },
  {
   "cell_type": "code",
   "execution_count": null,
   "id": "57cf1cc3",
   "metadata": {},
   "outputs": [],
   "source": [
    "\n"
   ]
  },
  {
   "cell_type": "code",
   "execution_count": 41,
   "id": "4467c6ac",
   "metadata": {},
   "outputs": [],
   "source": [
    "def aureo(terminos):\n",
    "    fn = np.array(fibi_n(terminos))\n",
    "    b = fibi_n(terminos+1)\n",
    "    fn1 = np.array(b[1:])\n",
    "    \n",
    "    lista = fn1/fn\n",
    "    \n",
    "    return lista\n",
    "plt.plot"
   ]
  },
  {
   "cell_type": "code",
   "execution_count": 45,
   "id": "ddbd7e4a",
   "metadata": {},
   "outputs": [
    {
     "name": "stderr",
     "output_type": "stream",
     "text": [
      "<ipython-input-41-58c213bde9e4>:6: RuntimeWarning: divide by zero encountered in true_divide\n",
      "  lista = fn1/fn\n"
     ]
    },
    {
     "data": {
      "text/plain": [
       "22"
      ]
     },
     "execution_count": 45,
     "metadata": {},
     "output_type": "execute_result"
    }
   ],
   "source": [
    "aureo(20)"
   ]
  },
  {
   "cell_type": "code",
   "execution_count": 49,
   "id": "06197edd",
   "metadata": {},
   "outputs": [
    {
     "name": "stderr",
     "output_type": "stream",
     "text": [
      "<ipython-input-41-58c213bde9e4>:6: RuntimeWarning: divide by zero encountered in true_divide\n",
      "  lista = fn1/fn\n"
     ]
    },
    {
     "data": {
      "text/plain": [
       "<matplotlib.lines.Line2D at 0x1c4f8e292e0>"
      ]
     },
     "execution_count": 49,
     "metadata": {},
     "output_type": "execute_result"
    },
    {
     "data": {
      "image/png": "[encoded data removed]",
      "text/plain": [
       "<Figure size 432x288 with 1 Axes>"
      ]
     },
     "metadata": {
      "needs_background": "light"
     },
     "output_type": "display_data"
    }
   ],
   "source": [
    "plt.plot(lista_g,aureo(20))\n",
    "aur = (1+(np.sqrt(5)))/2\n",
    "plt.axhline(y=aur, color='r')"
   ]
  },
  {
   "cell_type": "code",
   "execution_count": null,
   "id": "1b28efbf",
   "metadata": {},
   "outputs": [],
   "source": []
  }
 ],
 "metadata": {
  "kernelspec": {
   "display_name": "Python 3",
   "language": "python",
   "name": "python3"
  },
  "language_info": {
   "codemirror_mode": {
    "name": "ipython",
    "version": 3
   },
   "file_extension": ".py",
   "mimetype": "text/x-python",
   "name": "python",
   "nbconvert_exporter": "python",
   "pygments_lexer": "ipython3",
   "version": "3.8.8"
  }
 },
 "nbformat": 4,
 "nbformat_minor": 5
}
