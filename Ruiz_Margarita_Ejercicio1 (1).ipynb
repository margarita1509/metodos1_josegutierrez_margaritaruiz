{
  "nbformat": 4,
  "nbformat_minor": 0,
  "metadata": {
    "colab": {
      "provenance": []
    },
    "kernelspec": {
      "name": "python3",
      "display_name": "Python 3"
    },
    "language_info": {
      "name": "python"
    }
  },
  "cells": [
    {
      "cell_type": "markdown",
      "source": [
        "## Librerias"
      ],
      "metadata": {
        "id": "ySCvWQe5vxeT"
      }
    },
    {
      "cell_type": "code",
      "source": [
        "import numpy as np\n",
        "import matplotlib.pyplot as plt"
      ],
      "metadata": {
        "id": "VBo2Hv2tv0UR"
      },
      "execution_count": 2,
      "outputs": []
    },
    {
      "cell_type": "markdown",
      "source": [
        "## Problema 1"
      ],
      "metadata": {
        "id": "dEcQng6BpVFN"
      }
    },
    {
      "cell_type": "markdown",
      "source": [
        "Considere un lanzamiento de tiro parabolico, cuya ecuación de trayectoria esta dada por:\n",
        "\n",
        "$$\n",
        "  y(x) = y_0 + (x-x_0) \\tan{\\theta} - \\frac{1}{2}g(\\frac{x-x_0}{v_0\\cos{\\theta}})^2\n",
        "$$\n",
        "\n",
        "Usando $x_0 = 0$, $v_0 = 14 \\text{ m/s}$, $\\theta = \\pi / 4$, $y_0 = 2 \\text{ m}$, $g = 9.8 \\text{m/s}$\n",
        "\n",
        "La idea es gráficar la trayectoria hasta $x= 30 \\text{ m}$. Para ello siga los siguientes pasos."
      ],
      "metadata": {
        "id": "XuwEcc_9pmWP"
      }
    },
    {
      "cell_type": "markdown",
      "source": [
        "a) Cree una variable del tipo numpy array `x`, que corresponde a 100 puntos entre (0, **30**), use el siguiente [notebook](https://github.com/diegour1/CompMetodosComputacionales/blob/main/Notebooks/01%20-%20numpy.ipynb) como guia. \n",
        "\n"
      ],
      "metadata": {
        "id": "dLd7MV_4sZKj"
      }
    },
    {
      "cell_type": "code",
      "source": [
        "x=np.linspace(0,30,100)\n",
        "print(x)\n"
      ],
      "metadata": {
        "id": "6nviPNHUsVDI",
        "colab": {
          "base_uri": "https://localhost:8080/"
        },
        "outputId": "cb4e584c-d8bf-466a-abc0-6a66be55bd29"
      },
      "execution_count": 3,
      "outputs": [
        {
          "output_type": "stream",
          "name": "stdout",
          "text": [
            "[ 0.          0.3030303   0.60606061  0.90909091  1.21212121  1.51515152\n",
            "  1.81818182  2.12121212  2.42424242  2.72727273  3.03030303  3.33333333\n",
            "  3.63636364  3.93939394  4.24242424  4.54545455  4.84848485  5.15151515\n",
            "  5.45454545  5.75757576  6.06060606  6.36363636  6.66666667  6.96969697\n",
            "  7.27272727  7.57575758  7.87878788  8.18181818  8.48484848  8.78787879\n",
            "  9.09090909  9.39393939  9.6969697  10.         10.3030303  10.60606061\n",
            " 10.90909091 11.21212121 11.51515152 11.81818182 12.12121212 12.42424242\n",
            " 12.72727273 13.03030303 13.33333333 13.63636364 13.93939394 14.24242424\n",
            " 14.54545455 14.84848485 15.15151515 15.45454545 15.75757576 16.06060606\n",
            " 16.36363636 16.66666667 16.96969697 17.27272727 17.57575758 17.87878788\n",
            " 18.18181818 18.48484848 18.78787879 19.09090909 19.39393939 19.6969697\n",
            " 20.         20.3030303  20.60606061 20.90909091 21.21212121 21.51515152\n",
            " 21.81818182 22.12121212 22.42424242 22.72727273 23.03030303 23.33333333\n",
            " 23.63636364 23.93939394 24.24242424 24.54545455 24.84848485 25.15151515\n",
            " 25.45454545 25.75757576 26.06060606 26.36363636 26.66666667 26.96969697\n",
            " 27.27272727 27.57575758 27.87878788 28.18181818 28.48484848 28.78787879\n",
            " 29.09090909 29.39393939 29.6969697  30.        ]\n"
          ]
        }
      ]
    },
    {
      "cell_type": "markdown",
      "source": [
        "b) Calcule $y(x)$ que corresponde a $y$ para los 100 puntos anteriores. Guarde el valor en la variable del tipo numpy array `y`. No es posible usar ciclos como while o for, use las funciones de numpy como `np.tan`"
      ],
      "metadata": {
        "id": "GaSi1d1htKV6"
      }
    },
    {
      "cell_type": "code",
      "source": [
        "xi=0\n",
        "vo=14\n",
        "theta=np.pi/4\n",
        "yo=2\n",
        "g=float(9.8)\n",
        "y=yo+((x-xi)*(np.tan(theta)))-(1/2)*g*(((x-xi)/(vo*(np.cos(theta))))**2)\n",
        "y"
      ],
      "metadata": {
        "id": "savF-u4tuLth",
        "colab": {
          "base_uri": "https://localhost:8080/"
        },
        "outputId": "1ccc5324-f378-4f8c-db77-5232cab278e9"
      },
      "execution_count": 4,
      "outputs": [
        {
          "output_type": "execute_result",
          "data": {
            "text/plain": [
              "array([  2.        ,   2.29843893,   2.58769513,   2.8677686 ,\n",
              "         3.13865932,   3.40036731,   3.65289256,   3.89623508,\n",
              "         4.13039486,   4.3553719 ,   4.57116621,   4.77777778,\n",
              "         4.97520661,   5.16345271,   5.34251607,   5.51239669,\n",
              "         5.67309458,   5.82460973,   5.96694215,   6.10009183,\n",
              "         6.22405877,   6.33884298,   6.44444444,   6.54086318,\n",
              "         6.62809917,   6.70615243,   6.77502296,   6.83471074,\n",
              "         6.88521579,   6.92653811,   6.95867769,   6.98163453,\n",
              "         6.99540863,   7.        ,   6.99540863,   6.98163453,\n",
              "         6.95867769,   6.92653811,   6.88521579,   6.83471074,\n",
              "         6.77502296,   6.70615243,   6.62809917,   6.54086318,\n",
              "         6.44444444,   6.33884298,   6.22405877,   6.10009183,\n",
              "         5.96694215,   5.82460973,   5.67309458,   5.51239669,\n",
              "         5.34251607,   5.16345271,   4.97520661,   4.77777778,\n",
              "         4.57116621,   4.3553719 ,   4.13039486,   3.89623508,\n",
              "         3.65289256,   3.40036731,   3.13865932,   2.8677686 ,\n",
              "         2.58769513,   2.29843893,   2.        ,   1.69237833,\n",
              "         1.37557392,   1.04958678,   0.7144169 ,   0.37006428,\n",
              "         0.01652893,  -0.34618916,  -0.71808999,  -1.09917355,\n",
              "        -1.48943985,  -1.88888889,  -2.29752066,  -2.71533517,\n",
              "        -3.14233242,  -3.5785124 ,  -4.02387511,  -4.47842057,\n",
              "        -4.94214876,  -5.41505969,  -5.89715335,  -6.38842975,\n",
              "        -6.88888889,  -7.39853076,  -7.91735537,  -8.44536272,\n",
              "        -8.9825528 ,  -9.52892562, -10.08448118, -10.64921947,\n",
              "       -11.2231405 , -11.80624426, -12.39853076, -13.        ])"
            ]
          },
          "metadata": {},
          "execution_count": 4
        }
      ]
    },
    {
      "cell_type": "markdown",
      "source": [
        "c) Use `matplotlib`, para gráficar $y(x)$. Ponerle etiquetas a los ejes con unidades."
      ],
      "metadata": {
        "id": "svKxv5efuLL3"
      }
    },
    {
      "cell_type": "code",
      "source": [
        "plt.plot(x,y)\n",
        "plt.show\n"
      ],
      "metadata": {
        "id": "nHzCn9TSueeT",
        "colab": {
          "base_uri": "https://localhost:8080/",
          "height": 282
        },
        "outputId": "f1db663a-c6b4-45b4-bc5c-147219fda7e0"
      },
      "execution_count": 5,
      "outputs": [
        {
          "output_type": "execute_result",
          "data": {
            "text/plain": [
              "<function matplotlib.pyplot.show(*args, **kw)>"
            ]
          },
          "metadata": {},
          "execution_count": 5
        },
        {
          "output_type": "display_data",
          "data": {
            "text/plain": [
              "<Figure size 432x288 with 1 Axes>"
            ],
            "image/png": "[encoded data removed]"
          },
          "metadata": {
            "needs_background": "light"
          }
        }
      ]
    },
    {
      "cell_type": "markdown",
      "metadata": {
        "id": "ZsOww6v6DmA1"
      },
      "source": [
        "## Problema 2\n",
        "\n",
        "A partir del conjunto de entrenamiento de los datos MNIST (imágenes de números escritos a mano) en este problema vamos a operar imagenes de pixeles. Use este [notebook](https://github.com/diegour1/CompMetodosComputacionales/blob/main/Notebooks/01%20-%20numpy.ipynb) como referencia.\n",
        "\n",
        " \n"
      ]
    },
    {
      "cell_type": "code",
      "source": [
        "# Download the dataset\n",
        "# no modificar este codigo\n",
        "from keras.datasets import mnist\n",
        "\n",
        "(X_train, y_train), (X_test, y_test) = mnist.load_data()\n",
        "\n",
        "X_train.shape, X_test.shape, y_train.shape, y_test.shape"
      ],
      "metadata": {
        "colab": {
          "base_uri": "https://localhost:8080/"
        },
        "id": "ZZe8o13_xTwc",
        "outputId": "03440a38-c23f-4b79-ed2d-d47d0041520a"
      },
      "execution_count": 6,
      "outputs": [
        {
          "output_type": "stream",
          "name": "stdout",
          "text": [
            "Downloading data from https://storage.googleapis.com/tensorflow/tf-keras-datasets/mnist.npz\n",
            "11490434/11490434 [==============================] - 0s 0us/step\n"
          ]
        },
        {
          "output_type": "execute_result",
          "data": {
            "text/plain": [
              "((60000, 28, 28), (10000, 28, 28), (60000,), (10000,))"
            ]
          },
          "metadata": {},
          "execution_count": 6
        }
      ]
    },
    {
      "cell_type": "markdown",
      "source": [
        "Primero mostramos dos ejemplos de las imagenes con indices 17 y 9"
      ],
      "metadata": {
        "id": "204qIaFe8p4I"
      }
    },
    {
      "cell_type": "code",
      "source": [
        "# no modificar este codigo \n",
        "\n",
        "eight_image = X_train[17]\n",
        "\n",
        "plt.imshow(eight_image)"
      ],
      "metadata": {
        "id": "r3HsvSBSyLGs",
        "colab": {
          "base_uri": "https://localhost:8080/",
          "height": 282
        },
        "outputId": "febecbb1-88c5-464b-fd90-85cf7e94bbd2"
      },
      "execution_count": 7,
      "outputs": [
        {
          "output_type": "execute_result",
          "data": {
            "text/plain": [
              "<matplotlib.image.AxesImage at 0x7f9ec9505b50>"
            ]
          },
          "metadata": {},
          "execution_count": 7
        },
        {
          "output_type": "display_data",
          "data": {
            "text/plain": [
              "<Figure size 432x288 with 1 Axes>"
            ],
            "image/png": "[encoded data removed]"
          },
          "metadata": {
            "needs_background": "light"
          }
        }
      ]
    },
    {
      "cell_type": "code",
      "source": [
        "# no modificar este codigo \n",
        "\n",
        "nine_image =  X_train[4]\n",
        "plt.imshow(nine_image)"
      ],
      "metadata": {
        "id": "C2nfYTnS8i_D",
        "colab": {
          "base_uri": "https://localhost:8080/",
          "height": 282
        },
        "outputId": "85b6f50e-c41f-4ee2-f25b-48c2d3255553"
      },
      "execution_count": 8,
      "outputs": [
        {
          "output_type": "execute_result",
          "data": {
            "text/plain": [
              "<matplotlib.image.AxesImage at 0x7f9ec94761c0>"
            ]
          },
          "metadata": {},
          "execution_count": 8
        },
        {
          "output_type": "display_data",
          "data": {
            "text/plain": [
              "<Figure size 432x288 with 1 Axes>"
            ],
            "image/png": "[encoded data removed]"
          },
          "metadata": {
            "needs_background": "light"
          }
        }
      ]
    },
    {
      "cell_type": "markdown",
      "source": [
        "z) Imprima la forma de las matrices que corresponden a las dos imagenes, use el atributo shape."
      ],
      "metadata": {
        "id": "6fCKAQ1eBxvd"
      }
    },
    {
      "cell_type": "code",
      "source": [
        "a = eight_image.shape\n",
        "b = nine_image.shape\n"
      ],
      "metadata": {
        "id": "9c4Lm4i6B-TX"
      },
      "execution_count": 9,
      "outputs": []
    },
    {
      "cell_type": "markdown",
      "source": [
        "a) Grafique la imagen que resulta de sumar las dos imagenes"
      ],
      "metadata": {
        "id": "wjkYHEba9FvF"
      }
    },
    {
      "cell_type": "code",
      "source": [
        "z = eight_image+nine_image\n",
        "plt.imshow(z)"
      ],
      "metadata": {
        "id": "hqeHZJQlyjD0",
        "colab": {
          "base_uri": "https://localhost:8080/",
          "height": 282
        },
        "outputId": "8973e060-3d79-481e-e2d5-1ff7de2217d8"
      },
      "execution_count": 10,
      "outputs": [
        {
          "output_type": "execute_result",
          "data": {
            "text/plain": [
              "<matplotlib.image.AxesImage at 0x7f9ec9440070>"
            ]
          },
          "metadata": {},
          "execution_count": 10
        },
        {
          "output_type": "display_data",
          "data": {
            "text/plain": [
              "<Figure size 432x288 with 1 Axes>"
            ],
            "image/png": "[encoded data removed]"
          },
          "metadata": {
            "needs_background": "light"
          }
        }
      ]
    },
    {
      "cell_type": "markdown",
      "source": [
        "b) Grafique la imagen que resulta de restar la imagen del ocho con la imagen del nueve."
      ],
      "metadata": {
        "id": "bj7g6tBg9iZo"
      }
    },
    {
      "cell_type": "code",
      "source": [
        "k = eight_image-nine_image\n",
        "plt.imshow(k)\n",
        "#hice 8-9"
      ],
      "metadata": {
        "id": "KBBLih2g9UCL",
        "colab": {
          "base_uri": "https://localhost:8080/",
          "height": 282
        },
        "outputId": "6b70a966-9c23-40aa-c65e-7c0673cd1e4d"
      },
      "execution_count": 11,
      "outputs": [
        {
          "output_type": "execute_result",
          "data": {
            "text/plain": [
              "<matplotlib.image.AxesImage at 0x7f9ec9415ee0>"
            ]
          },
          "metadata": {},
          "execution_count": 11
        },
        {
          "output_type": "display_data",
          "data": {
            "text/plain": [
              "<Figure size 432x288 with 1 Axes>"
            ],
            "image/png": "[encoded data removed]"
          },
          "metadata": {
            "needs_background": "light"
          }
        }
      ]
    },
    {
      "cell_type": "markdown",
      "source": [
        "c) Grafique la imagen que resulta de multiplicar pixel por pixel las dos imagenes."
      ],
      "metadata": {
        "id": "t5bFJGc99tkL"
      }
    },
    {
      "cell_type": "code",
      "source": [
        "p=nine_image*eight_image\n",
        "plt.imshow(p)"
      ],
      "metadata": {
        "id": "Lv9v1wnT9dFi",
        "colab": {
          "base_uri": "https://localhost:8080/",
          "height": 282
        },
        "outputId": "35e3bb69-5069-48cb-b80f-ba0f6c170152"
      },
      "execution_count": 12,
      "outputs": [
        {
          "output_type": "execute_result",
          "data": {
            "text/plain": [
              "<matplotlib.image.AxesImage at 0x7f9ec936bc40>"
            ]
          },
          "metadata": {},
          "execution_count": 12
        },
        {
          "output_type": "display_data",
          "data": {
            "text/plain": [
              "<Figure size 432x288 with 1 Axes>"
            ],
            "image/png": "[encoded data removed]"
          },
          "metadata": {
            "needs_background": "light"
          }
        }
      ]
    },
    {
      "cell_type": "markdown",
      "source": [
        "d) Grafique la imagen que resulta de hacer un producto matricial entre la imagen del 8 a la izquierda y la imagen del 9 a la derecha."
      ],
      "metadata": {
        "id": "DD3lvP54-Kgu"
      }
    },
    {
      "cell_type": "code",
      "source": [
        "c = np.dot(eight_image, nine_image)\n",
        "plt.imshow(c)"
      ],
      "metadata": {
        "id": "RHPzkZI8-B_L",
        "colab": {
          "base_uri": "https://localhost:8080/",
          "height": 282
        },
        "outputId": "1ec722ea-f972-4d71-d322-fcb3d7c19d2b"
      },
      "execution_count": 13,
      "outputs": [
        {
          "output_type": "execute_result",
          "data": {
            "text/plain": [
              "<matplotlib.image.AxesImage at 0x7f9ec9340a30>"
            ]
          },
          "metadata": {},
          "execution_count": 13
        },
        {
          "output_type": "display_data",
          "data": {
            "text/plain": [
              "<Figure size 432x288 with 1 Axes>"
            ],
            "image/png": "[encoded data removed]"
          },
          "metadata": {
            "needs_background": "light"
          }
        }
      ]
    },
    {
      "cell_type": "markdown",
      "source": [
        "e) Cómo interpreta las imagenes de producto elemento por elemento y producto matricial ?\n",
        "\n",
        "Tu texto aqui\n",
        "\n",
        ".\n",
        "El producto elemento por elemento multiplica los códigos de color por cada índice de ambas matrices, mientras que el producto matricial recorre más pixeles al tener un tipo de producto punto, por lo cual se genera una imagen que es más amplia en forma al tomar más pixeles debido a la fórmula del producto matricial.\n",
        ".\n",
        "\n",
        ".\n",
        "\n",
        ".\n",
        "\n",
        ".\n",
        "\n",
        ".\n"
      ],
      "metadata": {
        "id": "6IEcWDxK-jXw"
      }
    },
    {
      "cell_type": "markdown",
      "source": [
        "f) Para la imagen del ocho, I) calcule con una función de numpy, el entero que corresponde a la suma total de pixeles. II) un array de 28 componentes que corresponde a la suma de pixeles de cada fila. III) Un array de 28 componentes que corresponde a la columnna 17 del numero 8."
      ],
      "metadata": {
        "id": "OiumcaaC-z1j"
      }
    },
    {
      "cell_type": "code",
      "source": [
        "## parte I codigo aqui\n",
        "\n",
        "suma_total = eight_image.sum()\n",
        "\n",
        "## parte II codigo aqui\n",
        "\n",
        "suma_pixeles_filas = eight_image.sum(axis=1)\n",
        "\n",
        "\n",
        "## parte III codigo aqui\n",
        "\n",
        "select_col = eight_image[:,17]\n",
        "\n",
        "print(suma_total, suma_pixeles_filas, select_col)\n"
      ],
      "metadata": {
        "id": "UHjpBvUO-dFn",
        "colab": {
          "base_uri": "https://localhost:8080/"
        },
        "outputId": "c252f04f-7877-4ede-d6ff-7f18f82e39aa"
      },
      "execution_count": 14,
      "outputs": [
        {
          "output_type": "stream",
          "name": "stdout",
          "text": [
            "27106 [   0    0    0    0    0  475  727 2068 2356 1717 1451 1498 1561 1590\n",
            " 1340 1115 1361 1468 1238 1270 1285 1308 1350 1246  682    0    0    0] [  0   0   0   0   0   0  47 253 228  48 170 253 253 154  38   0   0   0\n",
            "   0   0   0   0   0   0   0   0   0   0]\n"
          ]
        }
      ]
    },
    {
      "cell_type": "markdown",
      "source": [
        "g) Seleccione del conjunto de datos `X_train`, todas las imagenes que corresponden a imagenes del numero 8. Imprima la forma de la matriz resultante (tensor) de todas las imagenes de 8."
      ],
      "metadata": {
        "id": "djmVq_DTBkVn"
      }
    },
    {
      "cell_type": "code",
      "source": [
        "lista=[]\n",
        "while len(y_train) > i:\n",
        "  if y_train[i] != 8:\n",
        "    lista.append(i)\n",
        "  i+=1\n",
        "a = np.delete(X_train, lista, 0)\n",
        "t = [len(a), 28, 28]\n",
        "print (a, t)"
      ],
      "metadata": {
        "id": "9_UduV9vBW9J",
        "colab": {
          "base_uri": "https://localhost:8080/"
        },
        "outputId": "1b7407b4-29e8-4924-f014-501b01fc69fc"
      },
      "execution_count": 34,
      "outputs": [
        {
          "output_type": "stream",
          "name": "stdout",
          "text": [
            "[[[0 0 0 ... 0 0 0]\n",
            "  [0 0 0 ... 0 0 0]\n",
            "  [0 0 0 ... 0 0 0]\n",
            "  ...\n",
            "  [0 0 0 ... 0 0 0]\n",
            "  [0 0 0 ... 0 0 0]\n",
            "  [0 0 0 ... 0 0 0]]\n",
            "\n",
            " [[0 0 0 ... 0 0 0]\n",
            "  [0 0 0 ... 0 0 0]\n",
            "  [0 0 0 ... 0 0 0]\n",
            "  ...\n",
            "  [0 0 0 ... 0 0 0]\n",
            "  [0 0 0 ... 0 0 0]\n",
            "  [0 0 0 ... 0 0 0]]\n",
            "\n",
            " [[0 0 0 ... 0 0 0]\n",
            "  [0 0 0 ... 0 0 0]\n",
            "  [0 0 0 ... 0 0 0]\n",
            "  ...\n",
            "  [0 0 0 ... 0 0 0]\n",
            "  [0 0 0 ... 0 0 0]\n",
            "  [0 0 0 ... 0 0 0]]\n",
            "\n",
            " ...\n",
            "\n",
            " [[0 0 0 ... 0 0 0]\n",
            "  [0 0 0 ... 0 0 0]\n",
            "  [0 0 0 ... 0 0 0]\n",
            "  ...\n",
            "  [0 0 0 ... 0 0 0]\n",
            "  [0 0 0 ... 0 0 0]\n",
            "  [0 0 0 ... 0 0 0]]\n",
            "\n",
            " [[0 0 0 ... 0 0 0]\n",
            "  [0 0 0 ... 0 0 0]\n",
            "  [0 0 0 ... 0 0 0]\n",
            "  ...\n",
            "  [0 0 0 ... 0 0 0]\n",
            "  [0 0 0 ... 0 0 0]\n",
            "  [0 0 0 ... 0 0 0]]\n",
            "\n",
            " [[0 0 0 ... 0 0 0]\n",
            "  [0 0 0 ... 0 0 0]\n",
            "  [0 0 0 ... 0 0 0]\n",
            "  ...\n",
            "  [0 0 0 ... 0 0 0]\n",
            "  [0 0 0 ... 0 0 0]\n",
            "  [0 0 0 ... 0 0 0]]] [5859, 28, 28]\n"
          ]
        }
      ]
    },
    {
      "cell_type": "markdown",
      "source": [
        "h) Grafique la imagen promedio de todos los ochos. Guarde la imagen en la variable `eight_prom`."
      ],
      "metadata": {
        "id": "tqMhYrVoEJa4"
      }
    },
    {
      "cell_type": "code",
      "source": [
        "c = a.sum(axis=0)\n",
        "columnas = len(a)\n",
        "eight_prom = c/columnas\n",
        "plt.imshow(eight_prom)"
      ],
      "metadata": {
        "id": "xfcwJDGQEQ3s",
        "colab": {
          "base_uri": "https://localhost:8080/",
          "height": 282
        },
        "outputId": "eb88b94c-a293-405c-da6a-39ff67ff88ff"
      },
      "execution_count": 35,
      "outputs": [
        {
          "output_type": "execute_result",
          "data": {
            "text/plain": [
              "<matplotlib.image.AxesImage at 0x7f9ec6d89f10>"
            ]
          },
          "metadata": {},
          "execution_count": 35
        },
        {
          "output_type": "display_data",
          "data": {
            "text/plain": [
              "<Figure size 432x288 with 1 Axes>"
            ],
            "image/png": "[encoded data removed]"
          },
          "metadata": {
            "needs_background": "light"
          }
        }
      ]
    },
    {
      "cell_type": "markdown",
      "source": [
        "h) Grafique la imagen del peor ocho comparado con la imagen `eight_prom`, basados en la metrica, distancia euclidiana dada por, \n",
        "\n",
        "$$E_d(\\vec{p}, \\vec{q}) = \\sqrt{\\sum_{i=1}^n(q_i-p_i)^2}$$\n",
        "\n",
        "Donde $\\vec{p}$, $\\vec{q}$ son dos vectores que pertenecen a un espacio de $n$ dimensiones. En nuestro caso $n=784 = 28\\times28$.\n",
        "\n",
        "Es decir grafique la imagen del numero ocho que tiene la mayor distancia euclidiana comparado con el ocho promedio. \n"
      ],
      "metadata": {
        "id": "Z9XKzx9DDYtG"
      }
    },
    {
      "cell_type": "code",
      "source": [
        "#se demora 1 minuto en correr pero da el resultado que es\n",
        "peor = 0\n",
        "for i in range(len(a)):\n",
        "  img = a[i]\n",
        "  c = 0\n",
        "  for k in range(len(img)):\n",
        "    line = a[i][k]\n",
        "    for m in range(len(line)):\n",
        "      calc = (eight_prom[k][m]-a[i][k][m])**2\n",
        "      c+=calc\n",
        "  d = (c)**(1/2)\n",
        "  \n",
        "  if d>peor:\n",
        "    peor = d\n",
        "    sel=img\n",
        "\n",
        "plt.imshow(sel)\n",
        "\n",
        "\n",
        "  "
      ],
      "metadata": {
        "id": "k9Pte5wSDXLL",
        "colab": {
          "base_uri": "https://localhost:8080/",
          "height": 282
        },
        "outputId": "efff02e4-4bf6-4552-a4b1-9c22ed4185a7"
      },
      "execution_count": 36,
      "outputs": [
        {
          "output_type": "execute_result",
          "data": {
            "text/plain": [
              "<matplotlib.image.AxesImage at 0x7f9ec6d6da90>"
            ]
          },
          "metadata": {},
          "execution_count": 36
        },
        {
          "output_type": "display_data",
          "data": {
            "text/plain": [
              "<Figure size 432x288 with 1 Axes>"
            ],
            "image/png": "[encoded data removed]"
          },
          "metadata": {
            "needs_background": "light"
          }
        }
      ]
    }
  ]
}