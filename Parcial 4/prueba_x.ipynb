{
 "cells": [
  {
   "cell_type": "code",
   "execution_count": 1,
   "id": "ade49fec",
   "metadata": {},
   "outputs": [],
   "source": [
    "#%matplotlib notebook\n",
    "import numpy as np\n",
    "import matplotlib.pyplot as plt\n",
    "\n",
    "import sympy as sym\n",
    "from scipy.stats import chi2\n",
    "import scipy.optimize as spo\n",
    "\n",
    "import os\n",
    "import os.path as path\n",
    "import wget"
   ]
  },
  {
   "cell_type": "code",
   "execution_count": 2,
   "id": "7febe04d",
   "metadata": {},
   "outputs": [
    {
     "name": "stdout",
     "output_type": "stream",
     "text": [
      "\r",
      "  0% [                                                                                  ]   0 / 521\r",
      "100% [..................................................................................] 521 / 521File loaded\n"
     ]
    }
   ],
   "source": [
    "if not path.exists('Data'):\n",
    "    os.mkdir('Data')\n",
    "\n",
    "\n",
    "file = 'Data/Minimos.dat'\n",
    "\n",
    "\n",
    "#url = 'https://raw.githubusercontent.com/asegura4488/Database/main/MetodosComputacionalesReforma/MinimosLineal.txt'\n",
    "url = 'https://raw.githubusercontent.com/asegura4488/Database/main/MetodosComputacionalesReforma/MinimosCuadratico.txt'\n",
    "\n",
    "if not path.exists(file):\n",
    "    Path_ = wget.download(url,file)\n",
    "    print('File loaded')\n",
    "else:\n",
    "    Path_ = file"
   ]
  },
  {
   "cell_type": "code",
   "execution_count": 3,
   "id": "2695f7d0",
   "metadata": {},
   "outputs": [],
   "source": [
    "data = np.loadtxt(Path_)\n",
    "x = data[:,0]\n",
    "y = data[:,1]\n",
    "N = len(x)\n",
    "\n",
    "sigma = np.random.normal(loc=0,scale=20,size=N)\n",
    "sigma = np.abs(sigma)"
   ]
  },
  {
   "cell_type": "code",
   "execution_count": 4,
   "id": "71665d4f",
   "metadata": {},
   "outputs": [
    {
     "data": {
      "text/plain": [
       "<ErrorbarContainer object of 3 artists>"
      ]
     },
     "execution_count": 4,
     "metadata": {},
     "output_type": "execute_result"
    },
    {
     "data": {
      "image/png": "[encoded data removed]",
      "text/plain": [
       "<Figure size 432x288 with 1 Axes>"
      ]
     },
     "metadata": {
      "needs_background": "light"
     },
     "output_type": "display_data"
    }
   ],
   "source": [
    "plt.errorbar(x,y,yerr=sigma,fmt='.')"
   ]
  },
  {
   "cell_type": "code",
   "execution_count": 5,
   "id": "2385aa75",
   "metadata": {},
   "outputs": [],
   "source": [
    "# MOdelo\n",
    "def GetModel(x,p):\n",
    "    \n",
    "    y = 0\n",
    "    for n in range(len(p)):\n",
    "        y += p[n]*x**n\n",
    "    \n",
    "    #y = p[0]*np.exp(p[1]*x)\n",
    "        \n",
    "    return y"
   ]
  },
  {
   "cell_type": "code",
   "execution_count": 11,
   "id": "5827802b",
   "metadata": {},
   "outputs": [],
   "source": [
    "def Chi2(p,xi,yi,sigma):\n",
    "    return np.sum (  (yi-GetModel(xi,p))**2/(2*sigma**2) )"
   ]
  },
  {
   "cell_type": "code",
   "execution_count": 21,
   "id": "34a35704",
   "metadata": {},
   "outputs": [
    {
     "data": {
      "text/plain": [
       "array([1., 1., 1.])"
      ]
     },
     "execution_count": 21,
     "metadata": {},
     "output_type": "execute_result"
    }
   ],
   "source": [
    "p0 = np.ones(3)\n",
    "p0"
   ]
  },
  {
   "cell_type": "code",
   "execution_count": 22,
   "id": "cca27e4a",
   "metadata": {},
   "outputs": [],
   "source": [
    "nll = lambda *p: Chi2(*p)"
   ]
  },
  {
   "cell_type": "code",
   "execution_count": 23,
   "id": "31d77764",
   "metadata": {},
   "outputs": [
    {
     "name": "stdout",
     "output_type": "stream",
     "text": [
      "Optimization terminated successfully.\n",
      "         Current function value: 7.682656\n",
      "         Iterations: 12\n",
      "         Function evaluations: 56\n",
      "         Gradient evaluations: 14\n"
     ]
    }
   ],
   "source": [
    "result = spo.minimize( nll, p0, args=(x,y,sigma),options={'disp':True} )"
   ]
  },
  {
   "cell_type": "code",
   "execution_count": 24,
   "id": "314ef9e2",
   "metadata": {},
   "outputs": [
    {
     "data": {
      "text/plain": [
       "array([15.83711229, -3.83810383,  4.05019918])"
      ]
     },
     "execution_count": 24,
     "metadata": {},
     "output_type": "execute_result"
    }
   ],
   "source": [
    "bestparam = result.x\n",
    "bestparam"
   ]
  },
  {
   "cell_type": "code",
   "execution_count": 25,
   "id": "8b94e6ae",
   "metadata": {},
   "outputs": [
    {
     "data": {
      "text/plain": [
       "(20, 20, 20)"
      ]
     },
     "execution_count": 25,
     "metadata": {},
     "output_type": "execute_result"
    }
   ],
   "source": [
    "len(x),len(y),len(sigma)"
   ]
  },
  {
   "cell_type": "code",
   "execution_count": null,
   "id": "07fbb5dc",
   "metadata": {},
   "outputs": [],
   "source": []
  }
 ],
 "metadata": {
  "kernelspec": {
   "display_name": "Python 3",
   "language": "python",
   "name": "python3"
  },
  "language_info": {
   "codemirror_mode": {
    "name": "ipython",
    "version": 3
   },
   "file_extension": ".py",
   "mimetype": "text/x-python",
   "name": "python",
   "nbconvert_exporter": "python",
   "pygments_lexer": "ipython3",
   "version": "3.8.8"
  }
 },
 "nbformat": 4,
 "nbformat_minor": 5
}
