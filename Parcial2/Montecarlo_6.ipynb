{
 "cells": [
  {
   "cell_type": "code",
   "execution_count": 36,
   "id": "48280e99",
   "metadata": {},
   "outputs": [],
   "source": [
    "%matplotlib notebook\n",
    "import matplotlib.pyplot as plt\n",
    "import numpy as np\n",
    "from mpl_toolkits.mplot3d import axes3d\n",
    "from scipy import integrate\n",
    "from tqdm import tqdm"
   ]
  },
  {
   "cell_type": "code",
   "execution_count": 53,
   "id": "93c10caf",
   "metadata": {},
   "outputs": [
    {
     "name": "stderr",
     "output_type": "stream",
     "text": [
      "100%|█████████████████████████████████████████████████████████████████████| 1000000/1000000 [00:18<00:00, 54132.25it/s]\n"
     ]
    }
   ],
   "source": [
    "def CreateSphere(N,R=1):\n",
    "    \n",
    "    Points = np.zeros((N,3))\n",
    "        \n",
    "    for i in tqdm(range(N)):\n",
    "        \n",
    "        phi = np.random.uniform(0,2*np.pi)\n",
    "        u = np.random.rand()\n",
    "        r = R*u**(1/3)\n",
    "        costheta = np.random.uniform(-1,1)\n",
    "        theta = np.arccos(costheta)\n",
    "        \n",
    "        Points[i] = [r*np.cos(phi)*np.sin(theta),r*np.sin(phi)*np.sin(theta),r*np.cos(theta)]\n",
    "        \n",
    "    return Points\n",
    "cord = CreateSphere(1000000)"
   ]
  },
  {
   "cell_type": "code",
   "execution_count": 54,
   "id": "e34fc682",
   "metadata": {},
   "outputs": [
    {
     "data": {
      "text/plain": [
       "8.306961847379743e-05"
      ]
     },
     "execution_count": 54,
     "metadata": {},
     "output_type": "execute_result"
    }
   ],
   "source": [
    "N = 1000000\n",
    "I_xx = 0\n",
    "I_yy = 0\n",
    "I_zz = 0\n",
    "I_xy = 0\n",
    "for i in range(N):\n",
    "    I_xx += (1/N)*(cord[i][1]**2 + cord[i][2]**2)\n",
    "    I_yy += (1/N)*(cord[i][0]**2 + cord[i][2]**2)\n",
    "    I_zz += (1/N)*(cord[i][0]**2 + cord[i][1]**2)\n",
    "    I_xy += (1/N)*((-1)*cord[i][0])*(cord[i][1])\n",
    "I_xy"
   ]
  }
 ],
 "metadata": {
  "kernelspec": {
   "display_name": "Python 3",
   "language": "python",
   "name": "python3"
  },
  "language_info": {
   "codemirror_mode": {
    "name": "ipython",
    "version": 3
   },
   "file_extension": ".py",
   "mimetype": "text/x-python",
   "name": "python",
   "nbconvert_exporter": "python",
   "pygments_lexer": "ipython3",
   "version": "3.8.8"
  }
 },
 "nbformat": 4,
 "nbformat_minor": 5
}
