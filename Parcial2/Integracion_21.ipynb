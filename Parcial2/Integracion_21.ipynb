{
 "cells": [
  {
   "cell_type": "code",
   "execution_count": 109,
   "id": "e91ec471",
   "metadata": {},
   "outputs": [],
   "source": [
    "import numpy as np\n",
    "import matplotlib.pyplot as plt\n",
    "import sympy as sym\n",
    "from sympy import *"
   ]
  },
  {
   "cell_type": "code",
   "execution_count": 110,
   "id": "df0e062a",
   "metadata": {},
   "outputs": [],
   "source": [
    "def signo(x):\n",
    "    y = 0\n",
    "    if round(x,3) < 0:\n",
    "        y = -1\n",
    "    elif round(x,3) > 0:\n",
    "        y = 1\n",
    "    \n",
    "    return y"
   ]
  },
  {
   "cell_type": "code",
   "execution_count": 112,
   "id": "ee21aa7a",
   "metadata": {},
   "outputs": [
    {
     "name": "stdout",
     "output_type": "stream",
     "text": [
      "[-1.0000000e+00 -9.9000000e-01 -9.8000000e-01 -9.7000000e-01\n",
      " -9.6000000e-01 -9.5000000e-01 -9.4000000e-01 -9.3000000e-01\n",
      " -9.2000000e-01 -9.1000000e-01 -9.0000000e-01 -8.9000000e-01\n",
      " -8.8000000e-01 -8.7000000e-01 -8.6000000e-01 -8.5000000e-01\n",
      " -8.4000000e-01 -8.3000000e-01 -8.2000000e-01 -8.1000000e-01\n",
      " -8.0000000e-01 -7.9000000e-01 -7.8000000e-01 -7.7000000e-01\n",
      " -7.6000000e-01 -7.5000000e-01 -7.4000000e-01 -7.3000000e-01\n",
      " -7.2000000e-01 -7.1000000e-01 -7.0000000e-01 -6.9000000e-01\n",
      " -6.8000000e-01 -6.7000000e-01 -6.6000000e-01 -6.5000000e-01\n",
      " -6.4000000e-01 -6.3000000e-01 -6.2000000e-01 -6.1000000e-01\n",
      " -6.0000000e-01 -5.9000000e-01 -5.8000000e-01 -5.7000000e-01\n",
      " -5.6000000e-01 -5.5000000e-01 -5.4000000e-01 -5.3000000e-01\n",
      " -5.2000000e-01 -5.1000000e-01 -5.0000000e-01 -4.9000000e-01\n",
      " -4.8000000e-01 -4.7000000e-01 -4.6000000e-01 -4.5000000e-01\n",
      " -4.4000000e-01 -4.3000000e-01 -4.2000000e-01 -4.1000000e-01\n",
      " -4.0000000e-01 -3.9000000e-01 -3.8000000e-01 -3.7000000e-01\n",
      " -3.6000000e-01 -3.5000000e-01 -3.4000000e-01 -3.3000000e-01\n",
      " -3.2000000e-01 -3.1000000e-01 -3.0000000e-01 -2.9000000e-01\n",
      " -2.8000000e-01 -2.7000000e-01 -2.6000000e-01 -2.5000000e-01\n",
      " -2.4000000e-01 -2.3000000e-01 -2.2000000e-01 -2.1000000e-01\n",
      " -2.0000000e-01 -1.9000000e-01 -1.8000000e-01 -1.7000000e-01\n",
      " -1.6000000e-01 -1.5000000e-01 -1.4000000e-01 -1.3000000e-01\n",
      " -1.2000000e-01 -1.1000000e-01 -1.0000000e-01 -9.0000000e-02\n",
      " -8.0000000e-02 -7.0000000e-02 -6.0000000e-02 -5.0000000e-02\n",
      " -4.0000000e-02 -3.0000000e-02 -2.0000000e-02 -1.0000000e-02\n",
      "  8.8817842e-16  1.0000000e-02  2.0000000e-02  3.0000000e-02\n",
      "  4.0000000e-02  5.0000000e-02  6.0000000e-02  7.0000000e-02\n",
      "  8.0000000e-02  9.0000000e-02  1.0000000e-01  1.1000000e-01\n",
      "  1.2000000e-01  1.3000000e-01  1.4000000e-01  1.5000000e-01\n",
      "  1.6000000e-01  1.7000000e-01  1.8000000e-01  1.9000000e-01\n",
      "  2.0000000e-01  2.1000000e-01  2.2000000e-01  2.3000000e-01\n",
      "  2.4000000e-01  2.5000000e-01  2.6000000e-01  2.7000000e-01\n",
      "  2.8000000e-01  2.9000000e-01  3.0000000e-01  3.1000000e-01\n",
      "  3.2000000e-01  3.3000000e-01  3.4000000e-01  3.5000000e-01\n",
      "  3.6000000e-01  3.7000000e-01  3.8000000e-01  3.9000000e-01\n",
      "  4.0000000e-01  4.1000000e-01  4.2000000e-01  4.3000000e-01\n",
      "  4.4000000e-01  4.5000000e-01  4.6000000e-01  4.7000000e-01\n",
      "  4.8000000e-01  4.9000000e-01  5.0000000e-01  5.1000000e-01\n",
      "  5.2000000e-01  5.3000000e-01  5.4000000e-01  5.5000000e-01\n",
      "  5.6000000e-01  5.7000000e-01  5.8000000e-01  5.9000000e-01\n",
      "  6.0000000e-01  6.1000000e-01  6.2000000e-01  6.3000000e-01\n",
      "  6.4000000e-01  6.5000000e-01  6.6000000e-01  6.7000000e-01\n",
      "  6.8000000e-01  6.9000000e-01  7.0000000e-01  7.1000000e-01\n",
      "  7.2000000e-01  7.3000000e-01  7.4000000e-01  7.5000000e-01\n",
      "  7.6000000e-01  7.7000000e-01  7.8000000e-01  7.9000000e-01\n",
      "  8.0000000e-01  8.1000000e-01  8.2000000e-01  8.3000000e-01\n",
      "  8.4000000e-01  8.5000000e-01  8.6000000e-01  8.7000000e-01\n",
      "  8.8000000e-01  8.9000000e-01  9.0000000e-01  9.1000000e-01\n",
      "  9.2000000e-01  9.3000000e-01  9.4000000e-01  9.5000000e-01\n",
      "  9.6000000e-01  9.7000000e-01  9.8000000e-01  9.9000000e-01]\n"
     ]
    },
    {
     "data": {
      "image/png": "[encoded data removed]",
      "text/plain": [
       "<Figure size 432x288 with 1 Axes>"
      ]
     },
     "metadata": {
      "needs_background": "light"
     },
     "output_type": "display_data"
    }
   ],
   "source": [
    "x1 = np.arange(start=-1, stop=1, step=0.01)\n",
    "y1 = np.zeros(200)\n",
    "for i in range(200):\n",
    "    y1[i]=signo(x1[i])\n",
    "plt.scatter(x1,y1)\n",
    "print(x1)"
   ]
  },
  {
   "cell_type": "code",
   "execution_count": 88,
   "id": "d497cb57",
   "metadata": {},
   "outputs": [
    {
     "data": {
      "text/plain": [
       "array([-0.98799252, -0.93727339, -0.84820658, -0.72441773, -0.57097217,\n",
       "       -0.39415135, -0.20119409,  0.        ,  0.20119409,  0.39415135,\n",
       "        0.57097217,  0.72441773,  0.84820658,  0.93727339,  0.98799252])"
      ]
     },
     "execution_count": 88,
     "metadata": {},
     "output_type": "execute_result"
    }
   ],
   "source": [
    "raices_15, pesos_15 = np.polynomial.legendre.leggauss(15)\n",
    "raices_15"
   ]
  },
  {
   "cell_type": "code",
   "execution_count": 89,
   "id": "78baea9e",
   "metadata": {},
   "outputs": [],
   "source": [
    "def legendre(n,x,y):\n",
    "    \n",
    "    y = (x**2 - 1)**n\n",
    "    \n",
    "    poly = sym.diff( y,x,n )/(2**n * np.math.factorial(n))\n",
    "    \n",
    "    return poly"
   ]
  },
  {
   "cell_type": "code",
   "execution_count": 92,
   "id": "dde2489b",
   "metadata": {},
   "outputs": [
    {
     "data": {
      "text/latex": [
       "$\\displaystyle \\frac{3 x^{2} - 1}{2}$"
      ],
      "text/plain": [
       "(3*x**2 - 1)/2"
      ]
     },
     "execution_count": 92,
     "metadata": {},
     "output_type": "execute_result"
    }
   ],
   "source": [
    "x = sym.Symbol('x',real=True)\n",
    "y = sym.Symbol('y',real=True)\n",
    "\n",
    "a = legendre(2,x,y)\n",
    "a"
   ]
  },
  {
   "cell_type": "code",
   "execution_count": 100,
   "id": "3021319a",
   "metadata": {},
   "outputs": [
    {
     "data": {
      "text/plain": [
       "array([ 0.        ,  1.5       ,  0.        , -0.875     ,  0.        ,\n",
       "        0.6875    ,  0.        , -0.5859375 ,  0.        ,  0.51953125,\n",
       "        0.        , -0.47167969,  0.        ,  0.43505859,  0.        ,\n",
       "       -0.40585327,  0.        ,  0.3818512 ,  0.        , -0.36166763])"
      ]
     },
     "execution_count": 100,
     "metadata": {},
     "output_type": "execute_result"
    }
   ],
   "source": [
    "cn = np.zeros(20)\n",
    "for i in range(20):\n",
    "    dif1 = integrate((-1)*legendre(i,x,y),(x,-1,0))\n",
    "    dif2 = integrate(legendre(i,x,y),(x,0,1))\n",
    "    c = ((2*(i)+1)/2)*(dif1+dif2)\n",
    "    cn[i] = c\n",
    "cn"
   ]
  },
  {
   "cell_type": "code",
   "execution_count": 102,
   "id": "e3c77ece",
   "metadata": {},
   "outputs": [
    {
     "data": {
      "text/latex": [
       "$x \\mapsto \\color{LightGray}{\\text{0.0}\\,{P}_{0}(x)} + \\text{1.5}\\,{P}_{1}(x)\\color{LightGray}{ + \\text{0.0}\\,{P}_{2}(x)} - \\text{0.875}\\,{P}_{3}(x)\\color{LightGray}{ + \\text{0.0}\\,{P}_{4}(x)} + \\text{0.6875}\\,{P}_{5}(x)\\color{LightGray}{ + \\text{0.0}\\,{P}_{6}(x)} - \\text{0.5859375}\\,{P}_{7}(x)\\color{LightGray}{ + \\text{0.0}\\,{P}_{8}(x)} + \\text{0.51953125}\\,{P}_{9}(x)\\color{LightGray}{ + \\text{0.0}\\,{P}_{10}(x)} - \\text{0.4716796875}\\,{P}_{11}(x)\\color{LightGray}{ + \\text{0.0}\\,{P}_{12}(x)} + \\text{0.43505859375}\\,{P}_{13}(x)\\color{LightGray}{ + \\text{0.0}\\,{P}_{14}(x)} - \\text{0.405853271484375}\\,{P}_{15}(x)\\color{LightGray}{ + \\text{0.0}\\,{P}_{16}(x)} + \\text{0.3818511962890625}\\,{P}_{17}(x)\\color{LightGray}{ + \\text{0.0}\\,{P}_{18}(x)} - \\text{0.3616676330566406}\\,{P}_{19}(x)$"
      ],
      "text/plain": [
       "Legendre([ 0.        ,  1.5       ,  0.        , -0.875     ,  0.        ,\n",
       "        0.6875    ,  0.        , -0.5859375 ,  0.        ,  0.51953125,\n",
       "        0.        , -0.47167969,  0.        ,  0.43505859,  0.        ,\n",
       "       -0.40585327,  0.        ,  0.3818512 ,  0.        , -0.36166763], domain=[-1,  1], window=[-1,  1])"
      ]
     },
     "execution_count": 102,
     "metadata": {},
     "output_type": "execute_result"
    }
   ],
   "source": [
    "P = np.polynomial.legendre.Legendre(cn)\n",
    "P"
   ]
  },
  {
   "cell_type": "code",
   "execution_count": 116,
   "id": "a91a4389",
   "metadata": {},
   "outputs": [
    {
     "data": {
      "text/plain": [
       "<matplotlib.collections.PathCollection at 0x1809fc8dd90>"
      ]
     },
     "execution_count": 116,
     "metadata": {},
     "output_type": "execute_result"
    },
    {
     "data": {
      "image/png": "[encoded data removed]",
      "text/plain": [
       "<Figure size 432x288 with 1 Axes>"
      ]
     },
     "metadata": {
      "needs_background": "light"
     },
     "output_type": "display_data"
    }
   ],
   "source": [
    "x_ = np.arange(start=-1, stop=1, step=0.01)\n",
    "y = P(x_)\n",
    "plt.plot(x_,y)\n",
    "plt.scatter(x1,y1,color='red')"
   ]
  },
  {
   "cell_type": "code",
   "execution_count": null,
   "id": "92e3112c",
   "metadata": {},
   "outputs": [],
   "source": []
  }
 ],
 "metadata": {
  "kernelspec": {
   "display_name": "Python 3",
   "language": "python",
   "name": "python3"
  },
  "language_info": {
   "codemirror_mode": {
    "name": "ipython",
    "version": 3
   },
   "file_extension": ".py",
   "mimetype": "text/x-python",
   "name": "python",
   "nbconvert_exporter": "python",
   "pygments_lexer": "ipython3",
   "version": "3.8.8"
  }
 },
 "nbformat": 4,
 "nbformat_minor": 5
}
