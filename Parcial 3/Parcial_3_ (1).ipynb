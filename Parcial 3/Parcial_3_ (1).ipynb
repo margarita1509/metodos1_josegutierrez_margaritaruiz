{
 "cells": [
  {
   "cell_type": "code",
   "execution_count": 173,
   "id": "8d0b04b5",
   "metadata": {},
   "outputs": [],
   "source": [
    "import numpy as np\n",
    "import sympy as sym\n",
    "from IPython.display import clear_output\n",
    "import time\n",
    "import matplotlib.pyplot as plt\n",
    "from sympy import *"
   ]
  },
  {
   "cell_type": "code",
   "execution_count": 174,
   "id": "90d5e87e",
   "metadata": {},
   "outputs": [],
   "source": [
    "F = lambda x,y: ((x + y*1j)**3)-1"
   ]
  },
  {
   "cell_type": "code",
   "execution_count": 175,
   "id": "09efa9ad",
   "metadata": {},
   "outputs": [],
   "source": [
    "x0 = np.zeros(2) #inicial\n",
    "x1 = np.zeros(2)\n",
    "x2 = np.zeros(2)\n",
    "\n",
    "x0[0]= (-1/2) \n",
    "x0[1]= (np.sqrt(3)/2)\n",
    "\n",
    "x1[0] = (-1/2) \n",
    "x1[1] = -(np.sqrt(3)/2)\n",
    "\n",
    "x2[0] = 1\n",
    "x2[1] = 0"
   ]
  },
  {
   "cell_type": "code",
   "execution_count": 176,
   "id": "e73657dd",
   "metadata": {},
   "outputs": [
    {
     "data": {
      "text/plain": [
       "array([x**3 - 3*x*y**2 - 1, 3*x**2*y - y**3], dtype=object)"
      ]
     },
     "execution_count": 176,
     "metadata": {},
     "output_type": "execute_result"
    }
   ],
   "source": [
    "x = sym.Symbol('x',real=True)\n",
    "y = sym.Symbol('y',real=True)\n",
    "z = x + sym.I*y\n",
    "\n",
    "f0 = (z**3)-1\n",
    "F = np.array([sym.re(f0),sym.im(f0)])\n",
    "F"
   ]
  },
  {
   "cell_type": "code",
   "execution_count": 177,
   "id": "32cf2365",
   "metadata": {},
   "outputs": [
    {
     "data": {
      "text/plain": [
       "[[3*x**2 - 3*y**2, -6*x*y], [6*x*y, 3*x**2 - 3*y**2]]"
      ]
     },
     "execution_count": 177,
     "metadata": {},
     "output_type": "execute_result"
    }
   ],
   "source": [
    "DF1 = []\n",
    "DF2 = []\n",
    "a = sym.diff(F[0],x)\n",
    "b = sym.diff(F[0],y)\n",
    "DF1.append(a)\n",
    "DF1.append(b)\n",
    "\n",
    "c = sym.diff(F[1],x)\n",
    "d = sym.diff(F[1],y)\n",
    "DF2.append(c)\n",
    "DF2.append(d)\n",
    "\n",
    "J = [DF1,DF2]\n",
    "J"
   ]
  },
  {
   "cell_type": "code",
   "execution_count": 178,
   "id": "1776d4f8",
   "metadata": {},
   "outputs": [],
   "source": [
    "Fn = sym.lambdify([x,y],F,'numpy')\n",
    "Jn = sym.lambdify([x,y],J,'numpy')"
   ]
  },
  {
   "cell_type": "code",
   "execution_count": 179,
   "id": "439c0ec5",
   "metadata": {},
   "outputs": [
    {
     "data": {
      "text/plain": [
       "array([-0.49999997,  0.86602543])"
      ]
     },
     "execution_count": 179,
     "metadata": {},
     "output_type": "execute_result"
    }
   ],
   "source": [
    "def NR(Fn,Jn,z0,itermax=10000,e=1e-7):\n",
    "    cont=0\n",
    "    z1=z0\n",
    "    while cont < itermax:\n",
    "        f = np.array(Fn(z0[0],z0[1]))\n",
    "        j = np.array(Jn(z0[0],z0[1]))\n",
    "        Ji=np.linalg.inv(j)\n",
    "        fac=np.dot(Ji,f)\n",
    "        z1=z0-fac\n",
    "        if np.linalg.norm(-fac)<=e:\n",
    "            break\n",
    "        z0=z1\n",
    "        cont+=1\n",
    "    return z0\n",
    "z0=np.array([0.5,0.5])\n",
    "NR(Fn,Jn,z0)"
   ]
  },
  {
   "cell_type": "code",
   "execution_count": 194,
   "id": "45eaea93",
   "metadata": {},
   "outputs": [
    {
     "data": {
      "text/plain": [
       "array([[ True,  True,  True, ...,  True,  True,  True],\n",
       "       [ True,  True,  True, ...,  True,  True,  True],\n",
       "       [ True,  True,  True, ...,  True,  True,  True],\n",
       "       ...,\n",
       "       [ True,  True,  True, ...,  True,  True,  True],\n",
       "       [ True,  True,  True, ...,  True,  True,  True],\n",
       "       [ True,  True,  True, ...,  True,  True,  True]])"
      ]
     },
     "execution_count": 194,
     "metadata": {},
     "output_type": "execute_result"
    }
   ],
   "source": [
    "xe = np.linspace(-1,1,300)\n",
    "ye = np.linspace(-1,1,300)\n",
    "\n",
    "Fractal = np.zeros((300,300),np.int64)\n",
    "M = np.full((300, 300), True, dtype=bool)\n",
    "M"
   ]
  },
  {
   "cell_type": "code",
   "execution_count": 193,
   "id": "bc6a0bc8",
   "metadata": {},
   "outputs": [
    {
     "data": {
      "text/plain": [
       "array([[100, 100, 100, ..., 100, 100, 100],\n",
       "       [  0,   0,   0, ...,   0,   0,   0],\n",
       "       [  0,   0,   0, ...,   0,   0,   0],\n",
       "       ...,\n",
       "       [225, 225, 225, ..., 225, 225, 225],\n",
       "       [225, 225, 225, ..., 225, 225, 225],\n",
       "       [225, 225, 225, ..., 225, 225, 225]], dtype=int64)"
      ]
     },
     "execution_count": 193,
     "metadata": {},
     "output_type": "execute_result"
    }
   ],
   "source": [
    "for i in range(300):\n",
    "    zn=np.array([xe[i],ye[i]])\n",
    "    z0=NR(Fn,Jn,zn)\n",
    "    N[M] = i\n",
    "    if (round(z0[0]) == round(x0[0])) and (round(z0[1]) == round(x0[1])):\n",
    "        Fractal[i] = np.repeat(20, 300)     \n",
    "    elif (round(z0[0]) == round(x1[0])) and (round(z0[1]) == round(x1[1])):\n",
    "        Fractal[i] = np.repeat(100,300)\n",
    "    elif (round(z0[0]) == round(x2[0])) and (round(z0[1]) == round(x2[1])):\n",
    "        Fractal[i] = np.repeat(225,300)      \n",
    "Fractal"
   ]
  },
  {
   "cell_type": "code",
   "execution_count": 189,
   "id": "78f2a437",
   "metadata": {},
   "outputs": [
    {
     "data": {
      "text/plain": [
       "<matplotlib.image.AxesImage at 0x2a94f57a5b0>"
      ]
     },
     "execution_count": 189,
     "metadata": {},
     "output_type": "execute_result"
    },
    {
     "data": {
      "image/png": "[encoded data removed]",
      "text/plain": [
       "<Figure size 432x288 with 1 Axes>"
      ]
     },
     "metadata": {
      "needs_background": "light"
     },
     "output_type": "display_data"
    }
   ],
   "source": [
    "plt.imshow(Fractal, cmap='coolwarm' ,extent=[-1,1,-1,1])"
   ]
  },
  {
   "cell_type": "code",
   "execution_count": null,
   "id": "f3257c34",
   "metadata": {},
   "outputs": [],
   "source": []
  }
 ],
 "metadata": {
  "kernelspec": {
   "display_name": "Python 3",
   "language": "python",
   "name": "python3"
  },
  "language_info": {
   "codemirror_mode": {
    "name": "ipython",
    "version": 3
   },
   "file_extension": ".py",
   "mimetype": "text/x-python",
   "name": "python",
   "nbconvert_exporter": "python",
   "pygments_lexer": "ipython3",
   "version": "3.8.8"
  }
 },
 "nbformat": 4,
 "nbformat_minor": 5
}
